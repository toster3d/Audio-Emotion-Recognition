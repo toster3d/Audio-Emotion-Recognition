{
 "cells": [
  {
   "cell_type": "markdown",
   "metadata": {},
   "source": [
    "# Implementacja CNN VGG16 dla klasyfikacji emocji z danych audio\n",
    "\n",
    "## Implementacja i analiza \n",
    "\n",
    "Ten notebook przedstawia implementację głębokiej sieci neuronowej bazującej na architekturze VGG16 do rozpoznawania emocji z nagrań głosowych. W projekcie wykorzystujemy reprezentację nagrań audio w formie mel-spektrogramów, które są następnie analizowane przez sieć konwolucyjną.\n",
    "\n",
    "### Architektura VGG16\n",
    "\n",
    "VGG16 (Visual Geometry Group 16) to głęboka sieć konwolucyjna składająca się z 16 warstw z wagami, opracowana przez Karen Simonyan i Andrew Zissermana z Uniwersytetu Oksfordzkiego. Wyróżnia się:\n",
    "\n",
    "- **Strukturą sekwencyjną**: 13 warstw konwolucyjnych i 3 warstwy w pełni połączone\n",
    "- **Prostym i jednorodnym designem**: Wykorzystanie małych filtrów konwolucyjnych (3x3) przez całą sieć\n",
    "- **Głębokością**: Sekwencja warstw z rosnącą liczbą filtrów (64-512)\n",
    "- **Zastosowaniem max-poolingu**: Redukcja wymiarowości przy zachowaniu istotnych cech\n",
    "\n",
    "W tym projekcie adaptujemy architekturę VGG16 do rozpoznawania wzorców w spektrogramach audio reprezentujących różne emocje w głosie. Wykorzystujemy istniejącą implementację architektury VGG16 z biblioteki torchvision, z odpowiednimi modyfikacjami warstw, które dostosowują model do naszego zadania klasyfikacji emocji.\n",
    "\n",
    "### Mel-spektrogramy jako reprezentacja danych audio\n",
    "\n",
    "Zamiast bezpośredniej analizy surowego sygnału audio, przekształcamy nagrania do mel-spektrogramów, co pozwala na:\n",
    "\n",
    "- **Wizualizację dźwięku**: Dwuwymiarowa reprezentacja, gdzie:\n",
    "  - Oś pozioma reprezentuje czas\n",
    "  - Oś pionowa reprezentuje częstotliwości w skali mel (lepiej odpowiadającej ludzkiemu słyszeniu)\n",
    "  - Intensywność kolorów odzwierciedla energię w danym paśmie częstotliwości\n",
    "\n",
    "- **Wydobycie cech charakterystycznych dla emocji**:\n",
    "  - Wzorce intonacji i modulacji głosu\n",
    "  - Charakterystyczne sygnatury częstotliwościowe dla różnych stanów emocjonalnych\n",
    "  - Zmiany w dynamice i barwie głosu\n",
    "\n",
    "Ta reprezentacja umożliwia wykorzystanie architektury CNN (standardowo używanej do analizy obrazów) do efektywnej analizy wzorców dźwiękowych odpowiadających różnym emocjom.\n",
    "\n",
    "### Moduły pomocnicze\n",
    "\n",
    "W implementacji wykorzystujemy następujące moduły pomocnicze:\n",
    "\n",
    "##### `helpers/data.py`\n",
    "- `load_nemo_dataset()`: Funkcja ładująca zbiór danych NeMo Emotion Dataset\n",
    "- `prepare_data()`: Przetwarza dane audio do mel-spektrogramów i dzieli je na zbiory treningowy, walidacyjny i testowy\n",
    "- `predict_emotion()`: Umożliwia klasyfikację emocji dla nowych nagrań audio\n",
    "\n",
    "##### `helpers/VGG16_definition.py`\n",
    "- `build_vgg16_model()`: Tworzy model VGG16 dostosowany do klasyfikacji audio\n",
    "- `train_model()`: Implementuje proces trenowania modelu z zapisem historii\n",
    "- `save_model()`: Zapisuje wytrenowany model do późniejszego wykorzystania\n",
    "\n",
    "##### `helpers/utils.py`\n",
    "- `evaluate_model()`: Generuje metryki oceny modelu oraz macierz pomyłek\n",
    "- `plot_training_history()`: Wizualizuje przebieg treningu (dokładność i stratę)\n",
    "\n",
    "##### `config.py`\n",
    "Zawiera globalne parametry konfiguracyjne projektu:\n",
    "- Parametry uczenia (LEARNING_RATE, BATCH_SIZE, EPOCHS)\n",
    "- Liczba klas emocji (NUM_CLASSES)\n",
    "- Parametry ekstrakcji cech audio"
   ]
  },
  {
   "cell_type": "markdown",
   "metadata": {},
   "source": [
    "## 1. Ustawienia środowiska i importy"
   ]
  },
  {
   "cell_type": "code",
   "execution_count": 8,
   "metadata": {},
   "outputs": [],
   "source": [
    "import os\n",
    "import warnings\n",
    "warnings.filterwarnings('ignore')\n",
    "\n",
    "# Importowanie bibliotek\n",
    "import numpy as np\n",
    "from datasets import load_dataset\n",
    "from tqdm import tqdm  \n",
    "\n",
    "# Importowanie PyTorch\n",
    "import torch\n",
    "import torch.nn as nn\n",
    "from torch.utils.data import TensorDataset, DataLoader\n",
    "from torchvision import models\n",
    "\n",
    "\n",
    "# Importowanie konfiguracji\n",
    "from config import *\n",
    "\n",
    "# Podmiana tqdm w module data\n",
    "import helpers.data\n",
    "helpers.data.tqdm = tqdm\n",
    "\n",
    "# Importowanie stworzonych modułów\n",
    "from helpers.data import load_nemo_dataset, prepare_data, predict_emotion\n",
    "from helpers.VGG16_definition import build_vgg16_model, train_model\n",
    "from helpers.utils import evaluate_model, plot_training_history\n"
   ]
  },
  {
   "cell_type": "code",
   "execution_count": null,
   "metadata": {},
   "outputs": [],
   "source": [
    "# Sprawdzenie i konfiguracja dostępności GPU\n",
    "print(\"Sprawdzanie dostępności GPU...\")\n",
    "if torch.cuda.is_available():\n",
    "    device = torch.device(\"cuda\")\n",
    "    current_device = torch.cuda.current_device()\n",
    "    print(f\"✅ GPU zostało poprawnie skonfigurowane: {torch.cuda.get_device_name(current_device)}\")\n",
    "    \n",
    "    # Wyświetlenie informacji o pamięci GPU\n",
    "    print(f\"   Używana karta: {torch.cuda.get_device_name(0)}\")\n",
    "    print(f\"   Całkowita pamięć: {torch.cuda.get_device_properties(0).total_memory / 1e9:.2f} GB\")\n",
    "    print(f\"   Architektura: {torch.cuda.get_device_capability(0)}\")\n",
    "    \n",
    "\n",
    "else:\n",
    "    device = torch.device(\"cpu\")\n",
    "    print(\"❌ Brak dostępnego GPU z obsługą CUDA. Używanie CPU...\")"
   ]
  },
  {
   "cell_type": "markdown",
   "metadata": {},
   "source": [
    "## 2. Ładowanie i przygotowanie danych"
   ]
  },
  {
   "cell_type": "code",
   "execution_count": null,
   "metadata": {},
   "outputs": [],
   "source": [
    "print(\"📂 Rozpoczynam ładowanie i przygotowanie danych...\")\n",
    "try:\n",
    "    dataset = load_nemo_dataset()\n",
    "    \n",
    "    # Przygotowanie danych - usunięto for_torch=True, jeśli wywołuje błąd\n",
    "    X_train, X_val, X_test, y_train, y_val, y_test = prepare_data(dataset)\n",
    "    \n",
    "    # Konwersja danych do formatów PyTorch\n",
    "    print(\"🔄 Konwersja danych do formatu PyTorch...\")\n",
    "    X_train_tensor = torch.FloatTensor(X_train).permute(0, 3, 1, 2)  # [batch, channels, height, width]\n",
    "    X_val_tensor = torch.FloatTensor(X_val).permute(0, 3, 1, 2)\n",
    "    X_test_tensor = torch.FloatTensor(X_test).permute(0, 3, 1, 2)\n",
    "    \n",
    "    y_train_tensor = torch.LongTensor(y_train)\n",
    "    y_val_tensor = torch.LongTensor(y_val)\n",
    "    y_test_tensor = torch.LongTensor(y_test)\n",
    "    \n",
    "    # Tworzenie DataLoaderów\n",
    "    print(\"🔄 Tworzenie DataLoaderów...\")\n",
    "    train_dataset = TensorDataset(X_train_tensor, y_train_tensor)\n",
    "    val_dataset = TensorDataset(X_val_tensor, y_val_tensor)\n",
    "    test_dataset = TensorDataset(X_test_tensor, y_test_tensor)\n",
    "    \n",
    "    train_loader = DataLoader(train_dataset, batch_size=BATCH_SIZE, shuffle=True, num_workers=2)\n",
    "    val_loader = DataLoader(val_dataset, batch_size=BATCH_SIZE, num_workers=2)\n",
    "    test_loader = DataLoader(test_dataset, batch_size=BATCH_SIZE, num_workers=2)\n",
    "    \n",
    "    # Podsumowanie danych\n",
    "    print(\"✅ Dane zostały pomyślnie przygotowane:\")\n",
    "    print(f\"   ▪ Zbiór treningowy: {X_train_tensor.shape[0]} próbek, kształt: {X_train_tensor.shape}\")\n",
    "    print(f\"   ▪ Zbiór walidacyjny: {X_val_tensor.shape[0]} próbek, kształt: {X_val_tensor.shape}\")\n",
    "    print(f\"   ▪ Zbiór testowy: {X_test_tensor.shape[0]} próbek, kształt: {X_test_tensor.shape}\")\n",
    "    print(f\"   ▪ Batch size: {BATCH_SIZE}\")\n",
    "except Exception as e:\n",
    "    print(f\"❌ Wystąpił błąd podczas przygotowywania danych: {str(e)}\")\n",
    "    import traceback\n",
    "    traceback.print_exc()"
   ]
  },
  {
   "cell_type": "markdown",
   "metadata": {},
   "source": [
    "## 3.  Budowa i trenowanie modelu"
   ]
  },
  {
   "cell_type": "code",
   "execution_count": null,
   "metadata": {},
   "outputs": [],
   "source": [
    "try:\n",
    "    print(\"🔄 Budowanie modelu VGG16...\")\n",
    "    model = build_vgg16_model(num_classes=NUM_CLASSES)\n",
    "    model = model.to(device)\n",
    "    print(model)\n",
    "    \n",
    "    # Trenowanie modelu\n",
    "    print(\"🚀 Rozpoczynam trenowanie modelu...\")\n",
    "    model, history = train_model(\n",
    "        model, \n",
    "        train_loader, \n",
    "        val_loader,\n",
    "        device,\n",
    "        epochs=EPOCHS,\n",
    "        learning_rate=LEARNING_RATE\n",
    "    )\n",
    "    print(\"✅ Trenowanie zakończone!\")\n",
    "except Exception as e:\n",
    "    print(f\"❌ Wystąpił błąd podczas trenowania modelu: {str(e)}\")\n",
    "    import traceback\n",
    "    traceback.print_exc()\n"
   ]
  },
  {
   "cell_type": "markdown",
   "metadata": {},
   "source": [
    "## 4. Ewaluacja modelu"
   ]
  },
  {
   "cell_type": "code",
   "execution_count": null,
   "metadata": {},
   "outputs": [],
   "source": [
    "try:\n",
    "    print(\"🔍 Ewaluacja modelu na zbiorze testowym...\")\n",
    "    \n",
    "    # Definiujemy folder zapisu\n",
    "    save_dir = 'model_outputs'\n",
    "    \n",
    "    # Ewaluacja modelu z zapisem znormalizowanej macierzy pomyłek\n",
    "    test_acc, test_loss, confusion_matrix = evaluate_model(\n",
    "        model, test_loader, device, save_dir=save_dir, normalize=True\n",
    "    )\n",
    "    \n",
    "    # Wizualizacja wyników historii treningu\n",
    "    print(\"📊 Wizualizacja wyników trenowania...\")\n",
    "    plot_training_history(history, save_dir=save_dir)\n",
    "    \n",
    "    print(f\"✅ Wykresy i macierz pomyłek zapisane w katalogu: {save_dir}\")\n",
    "    \n",
    "except Exception as e:\n",
    "    print(f\"❌ Wystąpił błąd podczas ewaluacji modelu: {str(e)}\")\n",
    "    import traceback\n",
    "    traceback.print_exc()"
   ]
  },
  {
   "cell_type": "markdown",
   "metadata": {},
   "source": [
    "## 5. Zapisanie modelu"
   ]
  },
  {
   "cell_type": "code",
   "execution_count": 15,
   "metadata": {},
   "outputs": [
    {
     "name": "stdout",
     "output_type": "stream",
     "text": [
      "💾 Zapisywanie modelu...\n",
      "✅ Model został pomyślnie zapisany!\n"
     ]
    }
   ],
   "source": [
    "try:\n",
    "    print(\"💾 Zapisywanie modelu...\")\n",
    "    \n",
    "    # Sprawdź czy katalog istnieje\n",
    "    if not os.path.exists('model_outputs'):\n",
    "        os.makedirs('model_outputs')\n",
    "    \n",
    "    # Zapisz model bezpośrednio używając Torch\n",
    "    torch.save(model.state_dict(), 'model_outputs/best_model_vgg16.pt')\n",
    "    \n",
    "    # Zapisz historię treningu\n",
    "    import pickle\n",
    "    with open('model_outputs/history.pkl', 'wb') as f:\n",
    "        pickle.dump(history, f)\n",
    "    \n",
    "    print(\"✅ Model został pomyślnie zapisany!\")\n",
    "except Exception as e:\n",
    "    print(f\"❌ Błąd podczas zapisywania: {str(e)}\")"
   ]
  }
 ],
 "metadata": {
  "kernelspec": {
   "display_name": "ds",
   "language": "python",
   "name": "python3"
  },
  "language_info": {
   "codemirror_mode": {
    "name": "ipython",
    "version": 3
   },
   "file_extension": ".py",
   "mimetype": "text/x-python",
   "name": "python",
   "nbconvert_exporter": "python",
   "pygments_lexer": "ipython3",
   "version": "3.12.3"
  }
 },
 "nbformat": 4,
 "nbformat_minor": 2
}
