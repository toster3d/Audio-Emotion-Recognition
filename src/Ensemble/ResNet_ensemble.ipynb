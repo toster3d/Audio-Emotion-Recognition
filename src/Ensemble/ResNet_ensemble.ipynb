{
 "cells": [
  {
   "cell_type": "markdown",
   "id": "991424a6",
   "metadata": {},
   "source": [
    "# Importowanie niezbędnych bibliotek"
   ]
  },
  {
   "cell_type": "code",
   "execution_count": 2,
   "id": "4caa5eca",
   "metadata": {},
   "outputs": [
    {
     "name": "stdout",
     "output_type": "stream",
     "text": [
      "Katalog główny projektu: c:\\Users\\kubas\\Desktop\\Projekt dyplomowy\\Audio-Emotion-Recognition\n",
      "Czy katalog src istnieje: True\n",
      "Using device: cpu\n"
     ]
    }
   ],
   "source": [
    "# Importy standardowej biblioteki\n",
    "import sys\n",
    "import os\n",
    "\n",
    "# Dodaj katalog główny projektu do sys.path\n",
    "current_dir = (\n",
    "    os.path.dirname(os.path.abspath(__file__))\n",
    "    if \"__file__\" in globals()\n",
    "    else os.getcwd()\n",
    ")\n",
    "project_root = os.path.abspath(os.path.join(current_dir, \"..\", \"..\"))\n",
    "\n",
    "if project_root not in sys.path:\n",
    "    sys.path.insert(0, project_root)\n",
    "\n",
    "print(f\"Katalog główny projektu: {project_root}\")\n",
    "print(f\"Czy katalog src istnieje: {os.path.exists(os.path.join(project_root, 'src'))}\")\n",
    "\n",
    "import glob\n",
    "from datetime import datetime\n",
    "\n",
    "# Importy bibliotek zewnętrznych\n",
    "import numpy as np\n",
    "import matplotlib.pyplot as plt\n",
    "import seaborn as sns\n",
    "from sklearn.metrics import classification_report\n",
    "\n",
    "# Importy własnych modułów\n",
    "from src.config import (\n",
    "    BATCH_SIZE,\n",
    "    DEVICE,\n",
    "    TEST_SPLIT,\n",
    "    CLASS_NAMES,\n",
    "    FEATURE_RESULTS_DIR,\n",
    "    PROCESSED_FEATURES_DIR,\n",
    "    ENSEMBLE_OUTPUT_DIR,\n",
    "    OPTUNA_TRIALS,\n",
    "    OPTUNA_TIMEOUT,\n",
    "    CV_FOLDS,\n",
    "    SEED,\n",
    ")\n",
    "\n",
    "from src.helpers.resnet_model_definition import AudioResNet\n",
    "\n",
    "from src.helpers.ensemble_trainer import EnsembleModelTrainer\n",
    "\n",
    "\n",
    "# Ustawienie domyślnego urządzenia\n",
    "print(f\"Using device: {DEVICE}\")"
   ]
  },
  {
   "cell_type": "markdown",
   "id": "f06f5399",
   "metadata": {},
   "source": [
    "## Automatyczna konfiguracja modelu ensemble"
   ]
  },
  {
   "cell_type": "markdown",
   "id": "cd507e5b",
   "metadata": {},
   "source": [
    "### Funkcja `find_latest_model`\n",
    "**Opis:**  \n",
    "Ta funkcja wyszukuje najnowszy plik modelu dla określonego typu cechy audio w katalogu z wynikami. Wykorzystuje wzorzec nazwy pliku, aby znaleźć wszystkie modele dla danego typu cechy, a następnie sortuje je według daty w nazwie pliku, zwracając najnowszy.\n",
    "\n",
    "**Uzasadnienie:**  \n",
    "Wybór najnowszego modelu jest kluczowy w procesie ensemble, ponieważ zapewnia, że używane są najbardziej aktualne wyniki treningu, co może wpływać na lepszą dokładność predykcji.\n",
    "\n",
    "### Funkcja `find_feature_file`\n",
    "**Opis:**  \n",
    "Funkcja ta wyszukuje plik z cechami audio dla określonego typu reprezentacji w katalogu z przetworzonymi cechami. Jeśli znajdzie więcej niż jeden plik, wybiera najnowszy na podstawie daty modyfikacji.\n",
    "\n",
    "**Uzasadnienie:**  \n",
    "Wybór odpowiedniego pliku z cechami jest niezbędny do zapewnienia, że dane wejściowe do modelu są aktualne i zgodne z typem cechy, co pozwala na spójność między danymi a modelem podczas predykcji lub treningu.\n",
    "\n",
    "### Funkcja `auto_configure_ensemble`\n",
    "**Opis:**  \n",
    "Funkcja automatycznie konfiguruje model ensemble, wyszukując dostępne typy cech w katalogu wyników, znajdując odpowiednie modele i pliki cech dla każdego typu, a następnie tworząc konfigurację z modelami, plikami cech, wagami początkowymi i parametrami eksperymentu.\n",
    "W tym fragmencie kodu definiowana jest struktura config jako słownik, który zawiera kluczowe ustawienia modelu ensemble. Obejmuje ścieżki do modeli (model_paths) i plików cech (feature_files), klasę modelu (AudioResNet z pliku resnet_model_definition.py), początkowe wagi dla ensemble (initial_weights), katalog wyjściowy (output_dir z config.py), nazwę eksperymentu, podział danych na testowe (test_split), rozmiar partii (batch_size), parametry optymalizacji Optuna (optimization), nazwy klas emocji (class_names) oraz ziarno losowości (random_seed), z których większość pochodzi z pliku config.py.\n",
    "\n",
    "**Uzasadnienie:**  \n",
    "Automatyczna konfiguracja pozwala na szybkie zestawienie modelu ensemble bez konieczności ręcznego określania ścieżek do modeli i plików cech, co minimalizuje ryzyko błędów ludzkich i przyspiesza proces przygotowania do treningu lub testowania. Funkcja sprawdza również, czy wszystkie wymagane pliki istnieją, co zapobiega problemom podczas dalszej pracy. Konfiguracja config centralizuje wszystkie parametry potrzebne do treningu i testowania modelu ensemble, zapewniając spójność między ustawieniami projektu (config.py), architekturą modelu (resnet_model_definition.py) a danymi, co ułatwia automatyzację i powtarzalność eksperymentów.\n"
   ]
  },
  {
   "cell_type": "code",
   "execution_count": 9,
   "id": "7aea7c6d",
   "metadata": {},
   "outputs": [],
   "source": [
    "def find_latest_model(feature_type):\n",
    "    \"\"\"Zwraca najnowszy model dla danej reprezentacji audio.\"\"\"\n",
    "    search_pattern = (\n",
    "        f\"{FEATURE_RESULTS_DIR}/{feature_type}/best_model_{feature_type}_*.pt\"\n",
    "    )\n",
    "    model_files = glob.glob(search_pattern)\n",
    "\n",
    "    if not model_files:\n",
    "        return None\n",
    "\n",
    "    # Sortowanie plików według daty w nazwie (najnowszy na końcu)\n",
    "    model_files.sort(key=lambda x: os.path.basename(x).split(\"_\")[-1].split(\".\")[0])\n",
    "    return model_files[-1]\n",
    "\n",
    "\n",
    "def find_feature_file(feature_type):\n",
    "    \"\"\"Zwraca plik z cechami dla danej reprezentacji audio.\"\"\"\n",
    "    search_pattern = f\"{PROCESSED_FEATURES_DIR}/{feature_type}_*.pkl\"\n",
    "    feature_files = glob.glob(search_pattern)\n",
    "\n",
    "    if not feature_files:\n",
    "        return None\n",
    "\n",
    "    # W przypadku wielu plików, wybór najnowszego\n",
    "    if len(feature_files) > 1:\n",
    "        feature_files.sort(key=os.path.getmtime, reverse=True)\n",
    "\n",
    "    return feature_files[0]\n",
    "\n",
    "\n",
    "def auto_configure_ensemble(feature_types=None):\n",
    "    \"\"\"\n",
    "    Konfiguracja modelu ensemble w sposób automatyczny.\n",
    "    \"\"\"\n",
    "    # Wykorzystanie zmiennych z config.py\n",
    "    if feature_types is None:\n",
    "        try:\n",
    "            feature_types = [\n",
    "                d\n",
    "                for d in os.listdir(FEATURE_RESULTS_DIR)\n",
    "                if os.path.isdir(os.path.join(FEATURE_RESULTS_DIR, d))\n",
    "            ]\n",
    "        except FileNotFoundError:\n",
    "            raise FileNotFoundError(f\"Nie znaleziono katalogu '{FEATURE_RESULTS_DIR}'.\")\n",
    "\n",
    "    print(f\"Typy cech wybrane do modelu ensemble: {', '.join(feature_types)}\")\n",
    "\n",
    "    model_paths = {}\n",
    "    feature_files = {}\n",
    "    initial_weights = {}\n",
    "    missing_feature_files = []\n",
    "\n",
    "    for feature_type in feature_types:\n",
    "        # Weryfikacja pliku cech\n",
    "        feature_file = find_feature_file(feature_type)\n",
    "        if not feature_file:\n",
    "            missing_feature_files.append(feature_type)\n",
    "            print(f\"Ostrzeżenie: Brak pliku cech dla {feature_type}\")\n",
    "            continue  # Kontynuacja do następnego typu, bez szukania modelu, gdy brak cech\n",
    "\n",
    "        feature_files[feature_type] = feature_file\n",
    "\n",
    "        # Wyszukiwanie modelu\n",
    "        model_path = find_latest_model(feature_type)\n",
    "        if model_path:\n",
    "            model_paths[feature_type] = model_path\n",
    "            initial_weights[feature_type] = (\n",
    "                1.0  # Waga do normalizacji w późniejszym etapie\n",
    "            )\n",
    "        else:\n",
    "            print(\n",
    "                f\"Ostrzeżenie: Brak modelu dla {feature_type}, mimo istnienia pliku cech.\"\n",
    "            )\n",
    "            # Decyzja o kontynuacji bez tego modelu lub zgłoszenie błędu.\n",
    "            # Na razie pominięcie tego typu cechy w modelu.\n",
    "            del feature_files[\n",
    "                feature_type\n",
    "            ]  # Usunięcie wpisu o pliku cech, gdy brak modelu\n",
    "\n",
    "    # W przypadku brakujących plików cech, zgłoszenie błędu\n",
    "    if missing_feature_files:\n",
    "        error_message = (\n",
    "            f\"Błąd: Brak plików cech dla: {', '.join(missing_feature_files)}. \"\n",
    "            f\"Zaleca się uruchomienie funkcji `process_dataset` w pliku `ResNet_porównanie.ipynb`, \"\n",
    "            f\"aby wygenerować brakujące pliki w folderze `src/ResNet_for_all_repr/processed_features`.\"\n",
    "        )\n",
    "        raise FileNotFoundError(error_message)\n",
    "\n",
    "    # Weryfikacja, czy znaleziono jakiekolwiek działające pary model-cechy\n",
    "    if not model_paths:\n",
    "        raise ValueError(\n",
    "            \"Brak działających modeli i odpowiadających im plików cech! \"\n",
    "            \"Zaleca się sprawdzenie folderów 'src/ResNet_for_all_repr/feature_comparison_results' i 'src/ResNet_for_all_repr/processed_features'.\"\n",
    "        )\n",
    "\n",
    "    # Normalizacja wag, aby sumowały się do 1\n",
    "    num_features = len(model_paths)\n",
    "    initial_weights = {k: 1.0 / num_features for k in model_paths.keys()}\n",
    "\n",
    "    # Tworzenie konfiguracji\n",
    "    config = {\n",
    "        \"model_paths\": model_paths,\n",
    "        \"model_class\": AudioResNet,\n",
    "        \"feature_files\": feature_files,\n",
    "        \"initial_weights\": initial_weights,\n",
    "        \"output_dir\": ENSEMBLE_OUTPUT_DIR,\n",
    "        \"experiment_name\": f\"ensemble_model_{datetime.now().strftime('%Y%m%d_%H%M%S')}\",\n",
    "        \"test_split\": TEST_SPLIT,\n",
    "        \"batch_size\": BATCH_SIZE,\n",
    "        \"optimization\": {\n",
    "            \"n_trials\": OPTUNA_TRIALS,\n",
    "            \"timeout\": OPTUNA_TIMEOUT,\n",
    "            \"n_folds\": CV_FOLDS,\n",
    "        },\n",
    "        \"class_names\": CLASS_NAMES,\n",
    "        \"random_seed\": SEED,\n",
    "    }\n",
    "\n",
    "    print(f\"\\nZnaleziono {len(model_paths)} działających par model-cechy:\")\n",
    "    for feat in model_paths.keys():\n",
    "        print(f\"  - {feat}\")\n",
    "\n",
    "    return config"
   ]
  },
  {
   "cell_type": "markdown",
   "id": "f572fa4e",
   "metadata": {},
   "source": [
    "## Konfiguracja modelu ensemble z wybranymi cechami"
   ]
  },
  {
   "cell_type": "code",
   "execution_count": 17,
   "id": "949c744c",
   "metadata": {},
   "outputs": [
    {
     "name": "stdout",
     "output_type": "stream",
     "text": [
      "Typy cech wybrane do modelu ensemble: melspectrogram, mfcc, hpss, chroma, tempogram\n",
      "\n",
      "Znaleziono 5 działających par model-cechy:\n",
      "  - melspectrogram\n",
      "  - mfcc\n",
      "  - hpss\n",
      "  - chroma\n",
      "  - tempogram\n"
     ]
    }
   ],
   "source": [
    "# Automatyczne wykrywanie dostępnych modeli\n",
    "# CONFIG = auto_configure_ensemble()\n",
    "\n",
    "# Selekcja konkretnych reprezentacji\n",
    "selected_features = [\"melspectrogram\", \"mfcc\", \"hpss\", \"chroma\", \"tempogram\"]\n",
    "CONFIG = auto_configure_ensemble(feature_types=selected_features)\n",
    "\n",
    "# Modyfikacja wygenerowanej konfiguracji w celu dostosowania liczby prób optymalizacji\n",
    "# CONFIG[\"optimization\"][\"n_trials\"] = 100  # Ustalenie liczby prób optymalizacji"
   ]
  },
  {
   "cell_type": "markdown",
   "id": "023243ea",
   "metadata": {},
   "source": [
    "## Opis funkcji `auto_configure_ensemble`:\n",
    "Funkcja `auto_configure_ensemble` w pliku `ResNet_ensemble.ipynb` automatycznie przygotowuje model ensemble, przeszukując katalogi zdefiniowane w `config.py` w poszukiwaniu najnowszych modeli i plików cech dla różnych reprezentacji audio. Tworzy konfigurację zawierającą ścieżki do modeli, pliki cech, klasę modelu `AudioResNet` (z resnet_model_definition.py), znormalizowane wagi początkowe oraz parametry eksperymentu i optymalizacji.\n",
    "## Uzasadnienie architektury i featurów:\n",
    "Architektura ensemble łączy predykcje różnych modeli bazowych, analizujących odmienne cechy audio, co pozwala lepiej uchwycić emocje w dźwięku. W szczególności model ensemble osiągnął najlepsze wyniki po kilku próbach z różnymi konfiguracjami, wykorzystując trzy reprezentacje: chroma (harmonia i tony), melspectrogram (częstotliwości dostosowane do ludzkiego słuchu) oraz mfcc (cechy cepstralne istotne w analizie mowy). Automatyzacja konfiguracji oszczędza czas i minimalizuje błędy, umożliwiając skupienie się na analizie wyników.\n",
    "## Analiza pliku `ensemble_trainer.py`:\n",
    "Plik `ensemble_trainer.py` definiuje klasę `EnsembleModelTrainer`, która zarządza trenowaniem i oceną modelu ensemble. Odpowiada za ładowanie modeli   `AudioResNet` i danych cech, optymalizację wag za pomocą Optuna (z parametrami z `config.py`), ocenę modelu na zbiorze testowym, generowanie macierzy pomyłek oraz analizę błędów. Wykorzystuje MLflow do logowania eksperymentów, a walidacja krzyżowa i podział danych (zgodnie z `TEST_SPLIT`) zapewniają rzetelność wyników.\n",
    "\n",
    "Zastosowanie ensemble z wybranymi cechami audio (chroma, melspectrogram, mfcc) pozwala uchwycić złożoność emocji w dźwiękach, a modularna struktura `EnsembleModelTrainer` ułatwia zarządzanie eksperymentami. Automatyzacja optymalizacji wag i logowanie wyników wspierają efektywność i powtarzalność, co jest kluczowe w badaniach nad rozpoznawaniem emocji."
   ]
  },
  {
   "cell_type": "code",
   "execution_count": 18,
   "id": "2a74c86d",
   "metadata": {},
   "outputs": [
    {
     "name": "stdout",
     "output_type": "stream",
     "text": [
      "Główny katalog wyjściowy utworzony: c:\\Users\\kubas\\Desktop\\Projekt dyplomowy\\Audio-Emotion-Recognition\\src\\ensemble_outputs\\ensemble_run_20250523_193302\n",
      "Próba załadowania modelu dla cechy 'melspectrogram' z c:\\Users\\kubas\\Desktop\\Projekt dyplomowy\\Audio-Emotion-Recognition\\src\\feature_comparison_results/melspectrogram\\best_model_melspectrogram_20250523_120505.pt\n",
      "Model załadowany pomyślnie z c:\\Users\\kubas\\Desktop\\Projekt dyplomowy\\Audio-Emotion-Recognition\\src\\feature_comparison_results/melspectrogram\\best_model_melspectrogram_20250523_120505.pt\n",
      "Pomyślnie załadowano model dla cechy 'melspectrogram'\n",
      "Próba załadowania modelu dla cechy 'mfcc' z c:\\Users\\kubas\\Desktop\\Projekt dyplomowy\\Audio-Emotion-Recognition\\src\\feature_comparison_results/mfcc\\best_model_mfcc_20250523_122042.pt\n",
      "Model załadowany pomyślnie z c:\\Users\\kubas\\Desktop\\Projekt dyplomowy\\Audio-Emotion-Recognition\\src\\feature_comparison_results/mfcc\\best_model_mfcc_20250523_122042.pt\n",
      "Pomyślnie załadowano model dla cechy 'mfcc'\n",
      "Próba załadowania modelu dla cechy 'hpss' z c:\\Users\\kubas\\Desktop\\Projekt dyplomowy\\Audio-Emotion-Recognition\\src\\feature_comparison_results/hpss\\best_model_hpss_20250523_150323.pt\n",
      "Model załadowany pomyślnie z c:\\Users\\kubas\\Desktop\\Projekt dyplomowy\\Audio-Emotion-Recognition\\src\\feature_comparison_results/hpss\\best_model_hpss_20250523_150323.pt\n",
      "Pomyślnie załadowano model dla cechy 'hpss'\n",
      "Próba załadowania modelu dla cechy 'chroma' z c:\\Users\\kubas\\Desktop\\Projekt dyplomowy\\Audio-Emotion-Recognition\\src\\feature_comparison_results/chroma\\best_model_chroma_20250523_122702.pt\n",
      "Model załadowany pomyślnie z c:\\Users\\kubas\\Desktop\\Projekt dyplomowy\\Audio-Emotion-Recognition\\src\\feature_comparison_results/chroma\\best_model_chroma_20250523_122702.pt\n",
      "Pomyślnie załadowano model dla cechy 'chroma'\n",
      "Próba załadowania modelu dla cechy 'tempogram' z c:\\Users\\kubas\\Desktop\\Projekt dyplomowy\\Audio-Emotion-Recognition\\src\\feature_comparison_results/tempogram\\best_model_tempogram_20250523_125749.pt\n",
      "Model załadowany pomyślnie z c:\\Users\\kubas\\Desktop\\Projekt dyplomowy\\Audio-Emotion-Recognition\\src\\feature_comparison_results/tempogram\\best_model_tempogram_20250523_125749.pt\n",
      "Pomyślnie załadowano model dla cechy 'tempogram'\n",
      "\n",
      "Podsumowanie ładowania modeli:\n",
      "- Załadowane modele: 5/5\n",
      "- Niepowodzenia: 0/5\n",
      "Inicjalizacja zakończona. Można przystąpić do optymalizacji lub treningu.\n"
     ]
    }
   ],
   "source": [
    "# Inicjalizacja konfiguracji\n",
    "if \"CONFIG\" not in locals():\n",
    "    try:\n",
    "        print(\"Rozpoczynanie automatycznego generowania konfiguracji...\")\n",
    "        CONFIG = auto_configure_ensemble()\n",
    "    except Exception as e:\n",
    "        raise NameError(\n",
    "            f\"Zmienna CONFIG nie jest zdefiniowana i nie udało się jej automatycznie wygenerować: {e}. Należy najpierw uruchomić komórkę konfiguracyjną lub upewnić się, że pliki modeli/cech są dostępne.\"\n",
    "        )\n",
    "\n",
    "# Tworzenie głównego katalogu wyjściowego dla bieżącego uruchomienia\n",
    "timestamp = datetime.now().strftime(\"%Y%m%d_%H%M%S\")\n",
    "# Wykorzystanie podstawowego output_dir z konfiguracji\n",
    "base_output_dir = CONFIG.get(\"output_dir\", \"ensemble_outputs\")\n",
    "output_dir = os.path.join(base_output_dir, f\"ensemble_run_{timestamp}\")\n",
    "os.makedirs(output_dir, exist_ok=True)\n",
    "print(f\"Główny katalog wyjściowy utworzony: {output_dir}\")\n",
    "\n",
    "# Inicjalizacja trenera z odpowiednim output_dir\n",
    "trainer = EnsembleModelTrainer(\n",
    "    model_paths=CONFIG[\"model_paths\"],\n",
    "    feature_files=CONFIG[\"feature_files\"],\n",
    "    model_class=CONFIG[\"model_class\"],\n",
    "    output_dir=output_dir,\n",
    ")\n",
    "\n",
    "\n",
    "print(\"Inicjalizacja zakończona. Można przystąpić do optymalizacji lub treningu.\")"
   ]
  },
  {
   "cell_type": "markdown",
   "id": "2caf7337",
   "metadata": {},
   "source": [
    "## Optymalizacja wag"
   ]
  },
  {
   "cell_type": "markdown",
   "id": "1e993d5f",
   "metadata": {},
   "source": [
    "Poniżej pobierane są parametry optymalizacji z wcześniej zdefiniowanej konfiguracji `CONFIG`, takie jak liczba prób (`n_trials`), limit czasu (`timeout`), liczba foldów walidacji krzyżowej (`n_folds`) oraz proporcja danych testowych (`test_size`). Następnie wywoływana jest metoda `optimize_weights` obiektu `trainer`, która wykorzystuje bibliotekę **Optuna** do znalezienia najlepszych wag dla każdego modelu bazowego w ensemble. Na koniec wyświetlane są informacje o zakończeniu optymalizacji oraz uzyskane najlepsze wagi (`best_weights`).\n",
    "\n",
    "Optymalizacja wag jest kluczowym krokiem w budowie modelu ensemble, ponieważ pozwala określić, jak bardzo każdy model bazowy (dla różnych cech audio) wpływa na ostateczną predykcję. Użycie Optuna automatyzuje ten proces, testując różne kombinacje wag w oparciu o walidację krzyżową, co prowadzi do poprawy dokładności modelu. Logowanie parametrów i wyników zapewnia przejrzystość i możliwość analizy procesu optymalizacji."
   ]
  },
  {
   "cell_type": "code",
   "execution_count": 19,
   "id": "576e59a8",
   "metadata": {},
   "outputs": [
    {
     "name": "stdout",
     "output_type": "stream",
     "text": [
      "Rozpoczynanie optymalizacji z 50 próbami...\n"
     ]
    },
    {
     "name": "stderr",
     "output_type": "stream",
     "text": [
      "2025/05/23 19:33:04 INFO mlflow.tracking.fluent: Experiment with name 'ensemble_optimization_20250523_193304' does not exist. Creating a new experiment.\n",
      "[I 2025-05-23 19:33:04,394] A new study created in memory with name: ensemble_optimization_20250523_193304\n",
      "[I 2025-05-23 19:34:25,204] Trial 0 finished with value: 0.9841933984193397 and parameters: {'melspectrogram': 0.3745401188473625, 'mfcc': 0.9507143064099162, 'hpss': 0.7319939418114051, 'chroma': 0.5986584841970366, 'tempogram': 0.15601864044243652}. Best is trial 0 with value: 0.9841933984193397.\n",
      "[I 2025-05-23 19:35:47,301] Trial 1 finished with value: 0.9860529986052998 and parameters: {'melspectrogram': 0.15599452033620265, 'mfcc': 0.05808361216819946, 'hpss': 0.8661761457749352, 'chroma': 0.6011150117432088, 'tempogram': 0.7080725777960455}. Best is trial 1 with value: 0.9860529986052998.\n",
      "[I 2025-05-23 19:37:03,127] Trial 2 finished with value: 0.9846582984658299 and parameters: {'melspectrogram': 0.020584494295802447, 'mfcc': 0.9699098521619943, 'hpss': 0.8324426408004217, 'chroma': 0.21233911067827616, 'tempogram': 0.18182496720710062}. Best is trial 1 with value: 0.9860529986052998.\n",
      "[I 2025-05-23 19:38:19,311] Trial 3 finished with value: 0.9851231985123198 and parameters: {'melspectrogram': 0.18340450985343382, 'mfcc': 0.3042422429595377, 'hpss': 0.5247564316322378, 'chroma': 0.43194501864211576, 'tempogram': 0.2912291401980419}. Best is trial 1 with value: 0.9860529986052998.\n",
      "[I 2025-05-23 19:39:40,663] Trial 4 finished with value: 0.9841933984193397 and parameters: {'melspectrogram': 0.6118528947223795, 'mfcc': 0.13949386065204183, 'hpss': 0.29214464853521815, 'chroma': 0.3663618432936917, 'tempogram': 0.45606998421703593}. Best is trial 1 with value: 0.9860529986052998.\n",
      "[I 2025-05-23 19:40:58,879] Trial 5 finished with value: 0.9837284983728498 and parameters: {'melspectrogram': 0.7851759613930136, 'mfcc': 0.19967378215835974, 'hpss': 0.5142344384136116, 'chroma': 0.5924145688620425, 'tempogram': 0.046450412719997725}. Best is trial 1 with value: 0.9860529986052998.\n",
      "[I 2025-05-23 19:42:18,114] Trial 6 finished with value: 0.9841933984193397 and parameters: {'melspectrogram': 0.6075448519014384, 'mfcc': 0.17052412368729153, 'hpss': 0.06505159298527952, 'chroma': 0.9488855372533332, 'tempogram': 0.9656320330745594}. Best is trial 1 with value: 0.9860529986052998.\n",
      "[I 2025-05-23 19:43:40,693] Trial 7 finished with value: 0.9837284983728498 and parameters: {'melspectrogram': 0.8083973481164611, 'mfcc': 0.3046137691733707, 'hpss': 0.09767211400638387, 'chroma': 0.6842330265121569, 'tempogram': 0.4401524937396013}. Best is trial 1 with value: 0.9860529986052998.\n",
      "[I 2025-05-23 19:45:00,608] Trial 8 finished with value: 0.9804741980474198 and parameters: {'melspectrogram': 0.12203823484477883, 'mfcc': 0.4951769101112702, 'hpss': 0.034388521115218396, 'chroma': 0.9093204020787821, 'tempogram': 0.2587799816000169}. Best is trial 1 with value: 0.9860529986052998.\n",
      "[I 2025-05-23 19:46:14,961] Trial 9 finished with value: 0.9846582984658299 and parameters: {'melspectrogram': 0.662522284353982, 'mfcc': 0.31171107608941095, 'hpss': 0.5200680211778108, 'chroma': 0.5467102793432796, 'tempogram': 0.18485445552552704}. Best is trial 1 with value: 0.9860529986052998.\n",
      "[I 2025-05-23 19:47:39,946] Trial 10 finished with value: 0.9860529986052998 and parameters: {'melspectrogram': 0.3572441775079281, 'mfcc': 0.005997182955817193, 'hpss': 0.9695371107878661, 'chroma': 0.017961875614819767, 'tempogram': 0.8336316656599498}. Best is trial 1 with value: 0.9860529986052998.\n",
      "[I 2025-05-23 19:49:05,454] Trial 11 finished with value: 0.9860529986052998 and parameters: {'melspectrogram': 0.34995703045051474, 'mfcc': 0.014691117221320833, 'hpss': 0.9798101100205605, 'chroma': 0.08558506840798884, 'tempogram': 0.7644687517216833}. Best is trial 1 with value: 0.9860529986052998.\n",
      "[I 2025-05-23 19:50:17,341] Trial 12 finished with value: 0.9869827986982799 and parameters: {'melspectrogram': 0.2988515655508385, 'mfcc': 0.008696011297601662, 'hpss': 0.9727300411456719, 'chroma': 0.05191982030554448, 'tempogram': 0.7232631241102023}. Best is trial 12 with value: 0.9869827986982799.\n",
      "[I 2025-05-23 19:51:34,439] Trial 13 finished with value: 0.9846582984658299 and parameters: {'melspectrogram': 0.2400665831386537, 'mfcc': 0.6898904233496919, 'hpss': 0.7676259977007914, 'chroma': 0.7889041398298331, 'tempogram': 0.645856440703241}. Best is trial 12 with value: 0.9869827986982799.\n",
      "[I 2025-05-23 19:52:53,340] Trial 14 finished with value: 0.9851231985123198 and parameters: {'melspectrogram': 0.4613617768671243, 'mfcc': 0.5277788930300321, 'hpss': 0.8629465574167391, 'chroma': 0.2973724118774537, 'tempogram': 0.6276429452559499}. Best is trial 12 with value: 0.9869827986982799.\n",
      "[I 2025-05-23 19:54:12,008] Trial 15 finished with value: 0.9851231985123198 and parameters: {'melspectrogram': 0.965694575441974, 'mfcc': 0.0031475088735307393, 'hpss': 0.6640635257205942, 'chroma': 0.1875326314333673, 'tempogram': 0.6551114278631083}. Best is trial 12 with value: 0.9869827986982799.\n",
      "[I 2025-05-23 19:55:22,976] Trial 16 finished with value: 0.9851231985123198 and parameters: {'melspectrogram': 0.006401310150967732, 'mfcc': 0.46585899401290276, 'hpss': 0.650017134551377, 'chroma': 0.7441049131823096, 'tempogram': 0.9922970652252096}. Best is trial 12 with value: 0.9869827986982799.\n",
      "[I 2025-05-23 19:56:36,997] Trial 17 finished with value: 0.9827986982798699 and parameters: {'melspectrogram': 0.2455330387925646, 'mfcc': 0.7298348295317013, 'hpss': 0.36585430255820783, 'chroma': 0.4621147584011281, 'tempogram': 0.8174379457879558}. Best is trial 12 with value: 0.9869827986982799.\n",
      "[I 2025-05-23 19:57:54,012] Trial 18 finished with value: 0.9865178986517898 and parameters: {'melspectrogram': 0.12702593408771395, 'mfcc': 0.14650332808006372, 'hpss': 0.8855059874111499, 'chroma': 0.2942416004428994, 'tempogram': 0.5860149639453598}. Best is trial 12 with value: 0.9869827986982799.\n",
      "[I 2025-05-23 19:59:19,038] Trial 19 finished with value: 0.9860529986052998 and parameters: {'melspectrogram': 0.48208625099887786, 'mfcc': 0.21370615286338684, 'hpss': 0.9692698520487182, 'chroma': 0.15615909202022743, 'tempogram': 0.5322895722933332}. Best is trial 12 with value: 0.9869827986982799.\n",
      "[I 2025-05-23 20:00:33,427] Trial 20 finished with value: 0.9851231985123198 and parameters: {'melspectrogram': 0.08977341721412534, 'mfcc': 0.12491126294071128, 'hpss': 0.38562766332046744, 'chroma': 0.29383461689552454, 'tempogram': 0.5060556922030346}. Best is trial 12 with value: 0.9869827986982799.\n",
      "[I 2025-05-23 20:01:51,989] Trial 21 finished with value: 0.9860529986052998 and parameters: {'melspectrogram': 0.2576372326304813, 'mfcc': 0.09268834849585253, 'hpss': 0.8695307311951109, 'chroma': 0.003280373206495435, 'tempogram': 0.7324649495550366}. Best is trial 12 with value: 0.9869827986982799.\n",
      "[I 2025-05-23 20:03:22,184] Trial 22 finished with value: 0.9855880985588099 and parameters: {'melspectrogram': 0.13372652563953363, 'mfcc': 0.3887691947863863, 'hpss': 0.8980367134943426, 'chroma': 0.3187259319788911, 'tempogram': 0.87062800115194}. Best is trial 12 with value: 0.9869827986982799.\n",
      "[I 2025-05-23 20:04:46,144] Trial 23 finished with value: 0.9860529986052998 and parameters: {'melspectrogram': 0.3285898666639922, 'mfcc': 0.08667694889948879, 'hpss': 0.7665124245737925, 'chroma': 0.41210684507793194, 'tempogram': 0.5850846471930481}. Best is trial 12 with value: 0.9869827986982799.\n",
      "[I 2025-05-23 20:06:04,264] Trial 24 finished with value: 0.9865178986517898 and parameters: {'melspectrogram': 0.07190644480881991, 'mfcc': 0.2450005996619207, 'hpss': 0.637529835613271, 'chroma': 0.08306687619441436, 'tempogram': 0.37699597076637836}. Best is trial 12 with value: 0.9869827986982799.\n",
      "[I 2025-05-23 20:07:26,204] Trial 25 finished with value: 0.9865178986517898 and parameters: {'melspectrogram': 0.06318235002124746, 'mfcc': 0.24475053394288482, 'hpss': 0.6015022300051462, 'chroma': 0.10940444929986437, 'tempogram': 0.3732070249112828}. Best is trial 12 with value: 0.9869827986982799.\n",
      "[I 2025-05-23 20:08:50,910] Trial 26 finished with value: 0.9855880985588099 and parameters: {'melspectrogram': 0.19505288418352323, 'mfcc': 0.39232759738196327, 'hpss': 0.7420021306641718, 'chroma': 0.24760642361413332, 'tempogram': 0.35595878838071515}. Best is trial 12 with value: 0.9869827986982799.\n",
      "[I 2025-05-23 20:10:16,397] Trial 27 finished with value: 0.9846582984658299 and parameters: {'melspectrogram': 0.2880671674271481, 'mfcc': 0.6137732149918431, 'hpss': 0.6156556940833414, 'chroma': 0.10845085161586993, 'tempogram': 0.5701997393067245}. Best is trial 12 with value: 0.9869827986982799.\n",
      "[I 2025-05-23 20:11:32,529] Trial 28 finished with value: 0.9860529986052998 and parameters: {'melspectrogram': 0.44414001934246317, 'mfcc': 0.22300702532361044, 'hpss': 0.9962253844052453, 'chroma': 0.053249758428427184, 'tempogram': 0.4041687542361626}. Best is trial 12 with value: 0.9869827986982799.\n",
      "[I 2025-05-23 20:12:44,178] Trial 29 finished with value: 0.9846582984658299 and parameters: {'melspectrogram': 0.40900107107032385, 'mfcc': 0.8660805592047919, 'hpss': 0.8076596049146256, 'chroma': 0.14220850319475806, 'tempogram': 0.0017034697233944684}. Best is trial 12 with value: 0.9869827986982799.\n",
      "[I 2025-05-23 20:14:00,006] Trial 30 finished with value: 0.9869827986982799 and parameters: {'melspectrogram': 0.07361966411953057, 'mfcc': 0.36039593477612397, 'hpss': 0.7037902946408697, 'chroma': 0.21825606779479653, 'tempogram': 0.2955485749948312}. Best is trial 12 with value: 0.9869827986982799.\n",
      "[I 2025-05-23 20:15:25,060] Trial 31 finished with value: 0.9865178986517898 and parameters: {'melspectrogram': 0.08994212650652773, 'mfcc': 0.3816494115978139, 'hpss': 0.7086368671984169, 'chroma': 0.24421630993542973, 'tempogram': 0.29582093048797475}. Best is trial 12 with value: 0.9869827986982799.\n",
      "[I 2025-05-23 20:17:04,175] Trial 32 finished with value: 0.9860529986052998 and parameters: {'melspectrogram': 0.1803440380663987, 'mfcc': 0.27477973487142876, 'hpss': 0.6881651320024155, 'chroma': 0.1844457009795613, 'tempogram': 0.46542449942562264}. Best is trial 12 with value: 0.9869827986982799.\n",
      "[I 2025-05-23 20:18:26,696] Trial 33 finished with value: 0.9874476987447699 and parameters: {'melspectrogram': 0.03346146518584171, 'mfcc': 0.07064311434205794, 'hpss': 0.9107569550094782, 'chroma': 0.06644435326531571, 'tempogram': 0.2252713266640483}. Best is trial 33 with value: 0.9874476987447699.\n",
      "[I 2025-05-23 20:19:53,935] Trial 34 finished with value: 0.9869827986982799 and parameters: {'melspectrogram': 0.00416831144857642, 'mfcc': 0.06074025916657261, 'hpss': 0.9148456624267873, 'chroma': 0.3473403793046977, 'tempogram': 0.09932831459813724}. Best is trial 33 with value: 0.9874476987447699.\n",
      "[I 2025-05-23 20:21:23,891] Trial 35 finished with value: 0.9869827986982799 and parameters: {'melspectrogram': 0.01934980997930076, 'mfcc': 0.07544711125079484, 'hpss': 0.9345296707538066, 'chroma': 0.37175611056607316, 'tempogram': 0.11861194728875445}. Best is trial 33 with value: 0.9874476987447699.\n",
      "[I 2025-05-23 20:23:02,812] Trial 36 finished with value: 0.9874476987447699 and parameters: {'melspectrogram': 0.013987984884574702, 'mfcc': 0.061244531354713146, 'hpss': 0.8230703055944025, 'chroma': 0.2250132121933455, 'tempogram': 0.11034031867299438}. Best is trial 33 with value: 0.9874476987447699.\n",
      "[I 2025-05-23 20:24:31,148] Trial 37 finished with value: 0.9869827986982799 and parameters: {'melspectrogram': 0.18373805702703072, 'mfcc': 0.16228117778335696, 'hpss': 0.7964655453081652, 'chroma': 0.22808897585934945, 'tempogram': 0.22141849903517227}. Best is trial 33 with value: 0.9874476987447699.\n",
      "[I 2025-05-23 20:25:49,097] Trial 38 finished with value: 0.9874476987447699 and parameters: {'melspectrogram': 0.05945857151002714, 'mfcc': 0.04849466473107205, 'hpss': 0.8231640518244732, 'chroma': 0.042514246606258896, 'tempogram': 0.13630371746480707}. Best is trial 33 with value: 0.9874476987447699.\n",
      "[I 2025-05-23 20:27:04,423] Trial 39 finished with value: 0.9869827986982799 and parameters: {'melspectrogram': 0.5322128078907075, 'mfcc': 0.039333600794901044, 'hpss': 0.8335577200294368, 'chroma': 0.03526631919233232, 'tempogram': 0.08020718117231532}. Best is trial 33 with value: 0.9874476987447699.\n",
      "[I 2025-05-23 20:28:34,691] Trial 40 finished with value: 0.9860529986052998 and parameters: {'melspectrogram': 0.2916664250927462, 'mfcc': 0.11680389900312729, 'hpss': 0.5705997065030042, 'chroma': 0.12361340406957115, 'tempogram': 0.14315855072406336}. Best is trial 33 with value: 0.9874476987447699.\n",
      "[I 2025-05-23 20:29:48,220] Trial 41 finished with value: 0.9874476987447699 and parameters: {'melspectrogram': 0.06743990976473133, 'mfcc': 0.05537860652618731, 'hpss': 0.8295926323568527, 'chroma': 0.0716390111268741, 'tempogram': 0.18720143040019838}. Best is trial 33 with value: 0.9874476987447699.\n",
      "[I 2025-05-23 20:31:08,869] Trial 42 finished with value: 0.9874476987447699 and parameters: {'melspectrogram': 0.04770245796360314, 'mfcc': 0.05224708185247293, 'hpss': 0.836771708582035, 'chroma': 0.05426487390720681, 'tempogram': 0.19093748112050274}. Best is trial 33 with value: 0.9874476987447699.\n",
      "[I 2025-05-23 20:32:18,452] Trial 43 finished with value: 0.9846582984658299 and parameters: {'melspectrogram': 0.054379306026037015, 'mfcc': 0.17197508309248694, 'hpss': 0.17751407247224782, 'chroma': 0.010837631710028404, 'tempogram': 0.18832274436142749}. Best is trial 33 with value: 0.9874476987447699.\n",
      "[I 2025-05-23 20:33:22,942] Trial 44 finished with value: 0.9869827986982799 and parameters: {'melspectrogram': 0.15416899091865727, 'mfcc': 0.0966083068583365, 'hpss': 0.8545602880205342, 'chroma': 0.16029489257681923, 'tempogram': 0.23594619488782376}. Best is trial 33 with value: 0.9874476987447699.\n",
      "c:\\Users\\kubas\\Desktop\\Projekt dyplomowy\\Audio-Emotion-Recognition\\src\\helpers\\ensemble_trainer.py:304: ExperimentalWarning: plot_optimization_history is experimental (supported from v2.2.0). The interface can change in the future.\n",
      "  optuna.visualization.matplotlib.plot_optimization_history(study)\n",
      "c:\\Users\\kubas\\Desktop\\Projekt dyplomowy\\Audio-Emotion-Recognition\\src\\helpers\\ensemble_trainer.py:313: ExperimentalWarning: plot_param_importances is experimental (supported from v2.2.0). The interface can change in the future.\n",
      "  optuna.visualization.matplotlib.plot_param_importances(study)\n"
     ]
    },
    {
     "name": "stdout",
     "output_type": "stream",
     "text": [
      "Optymalizacja zakończona!\n",
      "Pełny wynik optymalizacji: (0.9874476987447699, {'melspectrogram': 0.03346146518584171, 'mfcc': 0.07064311434205794, 'hpss': 0.9107569550094782, 'chroma': 0.06644435326531571, 'tempogram': 0.2252713266640483})\n",
      "Najlepszy wynik: 0.9874476987447699\n",
      "Najlepsze wagi z Optuna: {'melspectrogram': 0.03346146518584171, 'mfcc': 0.07064311434205794, 'hpss': 0.9107569550094782, 'chroma': 0.06644435326531571, 'tempogram': 0.2252713266640483}\n",
      "Wagi zapisane jako 'optuna_weights': {'melspectrogram': 0.03346146518584171, 'mfcc': 0.07064311434205794, 'hpss': 0.9107569550094782, 'chroma': 0.06644435326531571, 'tempogram': 0.2252713266640483}\n"
     ]
    },
    {
     "data": {
      "text/plain": [
       "<Figure size 1000x600 with 0 Axes>"
      ]
     },
     "metadata": {},
     "output_type": "display_data"
    },
    {
     "data": {
      "text/plain": [
       "<Figure size 1000x600 with 0 Axes>"
      ]
     },
     "metadata": {},
     "output_type": "display_data"
    }
   ],
   "source": [
    "# Komórka odpowiedzialna za optymalizację wag modelu\n",
    "n_trials = CONFIG[\"optimization\"][\"n_trials\"]\n",
    "timeout = CONFIG[\"optimization\"][\"timeout\"]\n",
    "n_folds = CONFIG[\"optimization\"][\"n_folds\"]\n",
    "test_size = CONFIG[\"test_split\"]\n",
    "\n",
    "print(f\"Rozpoczynanie optymalizacji z {n_trials} próbami...\")\n",
    "optimization_result = trainer.optimize_weights(\n",
    "    n_trials=n_trials, timeout=timeout, n_folds=n_folds, test_size=test_size\n",
    ")\n",
    "\n",
    "print(\"Optymalizacja zakończona!\")\n",
    "print(f\"Pełny wynik optymalizacji: {optimization_result}\")\n",
    "\n",
    "# Wydobycie wag z wyniku (optimization_result to krotka: (best_score, best_params))\n",
    "best_score, best_weights = optimization_result\n",
    "print(f\"Najlepszy wynik: {best_score}\")\n",
    "print(f\"Najlepsze wagi z Optuna: {best_weights}\")\n",
    "\n",
    "# Zapisz wagi do późniejszego użycia\n",
    "optuna_weights = best_weights.copy()\n",
    "print(f\"Wagi zapisane jako 'optuna_weights': {optuna_weights}\")"
   ]
  },
  {
   "cell_type": "markdown",
   "id": "e0eefe60",
   "metadata": {},
   "source": [
    "## Trening i ewaluacja modelu"
   ]
  },
  {
   "cell_type": "markdown",
   "id": "cebe076d",
   "metadata": {},
   "source": [
    "Komórka poniżej umożliwia elastyczne testowanie modelu ensemble z różnymi zestawami wag – zarówno zoptymalizowanymi automatycznie, jak i ustawionymi ręcznie, co pozwala eksperymentować z wpływem poszczególnych reprezentacji audio na wynik. Wywołanie metody `train_and_evaluate` integruje proces treningu i oceny, korzystając z wcześniej przygotowanej konfiguracji."
   ]
  },
  {
   "cell_type": "code",
   "execution_count": 20,
   "id": "66cf5014",
   "metadata": {},
   "outputs": [
    {
     "name": "stdout",
     "output_type": "stream",
     "text": [
      "Używam wag z optymalizacji Optuna: {'melspectrogram': 0.03346146518584171, 'mfcc': 0.07064311434205794, 'hpss': 0.9107569550094782, 'chroma': 0.06644435326531571, 'tempogram': 0.2252713266640483}\n",
      "Rozpoczynam trenowanie ensemble z wybranymi wagami...\n",
      "Trenowanie i ewaluacja zakończona!\n",
      "Dokładność testowa: 0.9465\n",
      "Wynik F1 testu: 0.9464\n",
      "Użyte wagi: {'melspectrogram': 0.03346146518584171, 'mfcc': 0.07064311434205794, 'hpss': 0.9107569550094782, 'chroma': 0.06644435326531571, 'tempogram': 0.2252713266640483}\n"
     ]
    }
   ],
   "source": [
    "# Komórka odpowiedzialna za trening i ewaluację modelu\n",
    "# Wybór wag: użyj wag z Optuna lub zdefiniuj własne\n",
    "\n",
    "# OPCJA 1: Użyj wag z optymalizacji Optuna (z poprzedniej komórki)\n",
    "use_optuna_weights = True\n",
    "\n",
    "# OPCJA 2: Zdefiniuj własne wagi (ustaw use_optuna_weights = False)\n",
    "custom_weights = {\n",
    "    \"chroma\": 0.13857384163072003,\n",
    "    \"melspectrogram\": 0.31651310994496806,\n",
    "    \"mfcc\": 0.544913048424312,\n",
    "}\n",
    "\n",
    "# Wybierz które wagi użyć\n",
    "if use_optuna_weights:\n",
    "    weights_to_use = optuna_weights\n",
    "    print(f\"Używam wag z optymalizacji Optuna: {weights_to_use}\")\n",
    "else:\n",
    "    weights_to_use = custom_weights\n",
    "    print(f\"Używam niestandardowych wag: {weights_to_use}\")\n",
    "\n",
    "# Trenowanie i ewaluacja modelu\n",
    "print(\"Rozpoczynam trenowanie ensemble z wybranymi wagami...\")\n",
    "ensemble_model, test_results = trainer.train_and_evaluate(\n",
    "    weights=weights_to_use,\n",
    "    test_size=CONFIG[\"test_split\"],\n",
    "    batch_size=CONFIG[\"batch_size\"],\n",
    ")\n",
    "\n",
    "print(\"Trenowanie i ewaluacja zakończona!\")\n",
    "print(f\"Dokładność testowa: {test_results.get('accuracy', 0.0):.4f}\")\n",
    "print(f\"Wynik F1 testu: {test_results.get('f1', 0.0):.4f}\")\n",
    "print(f\"Użyte wagi: {weights_to_use}\")"
   ]
  },
  {
   "cell_type": "markdown",
   "id": "6910c08f",
   "metadata": {},
   "source": [
    "## Szczegółowe wyniki modelu"
   ]
  },
  {
   "cell_type": "code",
   "execution_count": 21,
   "id": "a710ea0b",
   "metadata": {},
   "outputs": [
    {
     "name": "stdout",
     "output_type": "stream",
     "text": [
      "Raport klasyfikacji:\n",
      "              precision    recall  f1-score   support\n",
      "\n",
      "       anger       0.97      0.97      0.97       150\n",
      "        fear       0.96      0.96      0.96       147\n",
      "   happiness       0.92      0.92      0.92       150\n",
      "     neutral       0.97      0.96      0.97       162\n",
      "     sadness       0.96      0.98      0.97       154\n",
      "   surprised       0.89      0.88      0.88       134\n",
      "\n",
      "    accuracy                           0.95       897\n",
      "   macro avg       0.95      0.94      0.94       897\n",
      "weighted avg       0.95      0.95      0.95       897\n",
      "\n"
     ]
    },
    {
     "data": {
      "image/png": "[encoded data removed]",
      "text/plain": [
       "<Figure size 1600x800 with 2 Axes>"
      ]
     },
     "metadata": {},
     "output_type": "display_data"
    }
   ],
   "source": [
    "# Komórka odpowiedzialna za wyświetlanie szczegółowych wyników\n",
    "# Wymagana po zakończeniu procesu treningu i ewaluacji\n",
    "if \"test_results\" in locals():\n",
    "    # Generowanie szczegółowego raportu klasyfikacji\n",
    "    print(\"Raport klasyfikacji:\")\n",
    "    class_names = CONFIG[\"class_names\"]\n",
    "    print(\n",
    "        classification_report(\n",
    "            test_results[\"true\"], test_results[\"preds\"], target_names=class_names\n",
    "        )\n",
    "    )\n",
    "\n",
    "    # Tworzenie i wyświetlanie znormalizowanej macierzy konfuzji\n",
    "    plt.figure(figsize=(16, 8))\n",
    "    cm_normalized = (\n",
    "        test_results[\"cm\"].astype(\"float\")\n",
    "        / test_results[\"cm\"].sum(axis=1)[:, np.newaxis]\n",
    "    )\n",
    "    sns.heatmap(\n",
    "        cm_normalized,\n",
    "        annot=True,\n",
    "        fmt=\".2f\",\n",
    "        cmap=\"Purples\",\n",
    "        xticklabels=class_names,\n",
    "        yticklabels=class_names,\n",
    "    )\n",
    "    plt.title(\"Znormalizowana macierz konfuzji\")\n",
    "    plt.ylabel(\"Prawdziwa etykieta\")\n",
    "    plt.xlabel(\"Przewidywana etykieta\")\n",
    "    plt.show()"
   ]
  }
 ],
 "metadata": {
  "kernelspec": {
   "display_name": "Python (Audio Emotion Recognition)",
   "language": "python",
   "name": "audio-emotion-recognition"
  },
  "language_info": {
   "codemirror_mode": {
    "name": "ipython",
    "version": 3
   },
   "file_extension": ".py",
   "mimetype": "text/x-python",
   "name": "python",
   "nbconvert_exporter": "python",
   "pygments_lexer": "ipython3",
   "version": "3.9.13"
  }
 },
 "nbformat": 4,
 "nbformat_minor": 5
}
