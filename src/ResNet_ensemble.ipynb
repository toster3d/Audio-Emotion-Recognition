{
 "cells": [
  {
   "cell_type": "markdown",
   "id": "991424a6",
   "metadata": {},
   "source": [
    "# Importowanie niezbędnych bibliotek"
   ]
  },
  {
   "cell_type": "code",
   "execution_count": 11,
   "id": "4caa5eca",
   "metadata": {},
   "outputs": [
    {
     "name": "stdout",
     "output_type": "stream",
     "text": [
      "Using device: cpu\n"
     ]
    }
   ],
   "source": [
    "# Importy standardowej biblioteki\n",
    "import glob\n",
    "import os\n",
    "from datetime import datetime\n",
    "\n",
    "# Importy bibliotek zewnętrznych\n",
    "import numpy as np\n",
    "import matplotlib.pyplot as plt\n",
    "import seaborn as sns\n",
    "from sklearn.metrics import classification_report\n",
    "\n",
    "# Importy własnych modułów\n",
    "from config import BATCH_SIZE, DEVICE,TEST_SPLIT, CLASS_NAMES,FEATURE_RESULTS_DIR, PROCESSED_FEATURES_DIR, ENSEMBLE_OUTPUT_DIR, OPTUNA_TRIALS, OPTUNA_TIMEOUT, CV_FOLDS, SEED\n",
    "\n",
    "from helpers.resnet_model_definition import AudioResNet\n",
    "\n",
    "from helpers.ensemble_trainer import EnsembleModelTrainer\n",
    "\n",
    "\n",
    "# Ustawienie domyślnego urządzenia\n",
    "print(f\"Using device: {DEVICE}\")"
   ]
  },
  {
   "cell_type": "markdown",
   "id": "f06f5399",
   "metadata": {},
   "source": [
    "## Automatyczna konfiguracja modelu ensemble"
   ]
  },
  {
   "cell_type": "markdown",
   "id": "cd507e5b",
   "metadata": {},
   "source": [
    "### Funkcja `find_latest_model`\n",
    "**Opis:**  \n",
    "Ta funkcja wyszukuje najnowszy plik modelu dla określonego typu cechy audio w katalogu z wynikami. Wykorzystuje wzorzec nazwy pliku, aby znaleźć wszystkie modele dla danego typu cechy, a następnie sortuje je według daty w nazwie pliku, zwracając najnowszy.\n",
    "\n",
    "**Uzasadnienie:**  \n",
    "Wybór najnowszego modelu jest kluczowy w procesie ensemble, ponieważ zapewnia, że używane są najbardziej aktualne wyniki treningu, co może wpływać na lepszą dokładność predykcji.\n",
    "\n",
    "### Funkcja `find_feature_file`\n",
    "**Opis:**  \n",
    "Funkcja ta wyszukuje plik z cechami audio dla określonego typu reprezentacji w katalogu z przetworzonymi cechami. Jeśli znajdzie więcej niż jeden plik, wybiera najnowszy na podstawie daty modyfikacji.\n",
    "\n",
    "**Uzasadnienie:**  \n",
    "Wybór odpowiedniego pliku z cechami jest niezbędny do zapewnienia, że dane wejściowe do modelu są aktualne i zgodne z typem cechy, co pozwala na spójność między danymi a modelem podczas predykcji lub treningu.\n",
    "\n",
    "### Funkcja `auto_configure_ensemble`\n",
    "**Opis:**  \n",
    "Funkcja automatycznie konfiguruje model ensemble, wyszukując dostępne typy cech w katalogu wyników, znajdując odpowiednie modele i pliki cech dla każdego typu, a następnie tworząc konfigurację z modelami, plikami cech, wagami początkowymi i parametrami eksperymentu.\n",
    "W tym fragmencie kodu definiowana jest struktura config jako słownik, który zawiera kluczowe ustawienia modelu ensemble. Obejmuje ścieżki do modeli (model_paths) i plików cech (feature_files), klasę modelu (AudioResNet z pliku resnet_model_definition.py), początkowe wagi dla ensemble (initial_weights), katalog wyjściowy (output_dir z config.py), nazwę eksperymentu, podział danych na testowe (test_split), rozmiar partii (batch_size), parametry optymalizacji Optuna (optimization), nazwy klas emocji (class_names) oraz ziarno losowości (random_seed), z których większość pochodzi z pliku config.py.\n",
    "\n",
    "**Uzasadnienie:**  \n",
    "Automatyczna konfiguracja pozwala na szybkie zestawienie modelu ensemble bez konieczności ręcznego określania ścieżek do modeli i plików cech, co minimalizuje ryzyko błędów ludzkich i przyspiesza proces przygotowania do treningu lub testowania. Funkcja sprawdza również, czy wszystkie wymagane pliki istnieją, co zapobiega problemom podczas dalszej pracy. Konfiguracja config centralizuje wszystkie parametry potrzebne do treningu i testowania modelu ensemble, zapewniając spójność między ustawieniami projektu (config.py), architekturą modelu (resnet_model_definition.py) a danymi, co ułatwia automatyzację i powtarzalność eksperymentów.\n"
   ]
  },
  {
   "cell_type": "code",
   "execution_count": 12,
   "id": "7aea7c6d",
   "metadata": {},
   "outputs": [],
   "source": [
    "def find_latest_model(feature_type):\n",
    "    \"\"\"Zwraca najnowszy model dla danej reprezentacji audio.\"\"\"\n",
    "    search_pattern = f\"{FEATURE_RESULTS_DIR}/{feature_type}/best_model_{feature_type}_*.pt\"\n",
    "    model_files = glob.glob(search_pattern)\n",
    "    \n",
    "    if not model_files:\n",
    "        return None\n",
    "    \n",
    "    # Sortowanie plików według daty w nazwie (najnowszy na końcu)\n",
    "    model_files.sort(key=lambda x: os.path.basename(x).split('_')[-1].split('.')[0])\n",
    "    return model_files[-1]\n",
    "\n",
    "def find_feature_file(feature_type):\n",
    "    \"\"\"Zwraca plik z cechami dla danej reprezentacji audio.\"\"\"\n",
    "    search_pattern = f\"{PROCESSED_FEATURES_DIR}/{feature_type}_*.pkl\"\n",
    "    feature_files = glob.glob(search_pattern)\n",
    "    \n",
    "    if not feature_files:\n",
    "        return None\n",
    "    \n",
    "    # W przypadku wielu plików, wybór najnowszego\n",
    "    if len(feature_files) > 1:\n",
    "        feature_files.sort(key=os.path.getmtime, reverse=True)\n",
    "    \n",
    "    return feature_files[0]\n",
    "\n",
    "def auto_configure_ensemble(feature_types=None):\n",
    "    \"\"\"\n",
    "    Konfiguracja modelu ensemble w sposób automatyczny.\n",
    "    \"\"\"\n",
    "    # Wykorzystanie zmiennych z config.py\n",
    "    if feature_types is None:\n",
    "        try:\n",
    "            feature_types = [d for d in os.listdir(FEATURE_RESULTS_DIR) \n",
    "                             if os.path.isdir(os.path.join(FEATURE_RESULTS_DIR, d))]\n",
    "        except FileNotFoundError:\n",
    "             raise FileNotFoundError(f\"Nie znaleziono katalogu '{FEATURE_RESULTS_DIR}'.\")\n",
    "    \n",
    "    print(f\"Typy cech wybrane do modelu ensemble: {', '.join(feature_types)}\")\n",
    "\n",
    "    model_paths = {}\n",
    "    feature_files = {}\n",
    "    initial_weights = {}\n",
    "    missing_feature_files = []\n",
    "    \n",
    "    for feature_type in feature_types:\n",
    "        # Weryfikacja pliku cech\n",
    "        feature_file = find_feature_file(feature_type)\n",
    "        if not feature_file:\n",
    "            missing_feature_files.append(feature_type)\n",
    "            print(f\"Ostrzeżenie: Brak pliku cech dla {feature_type}\")\n",
    "            continue # Kontynuacja do następnego typu, bez szukania modelu, gdy brak cech\n",
    "        \n",
    "        feature_files[feature_type] = feature_file\n",
    "        \n",
    "        # Wyszukiwanie modelu\n",
    "        model_path = find_latest_model(feature_type)\n",
    "        if model_path:\n",
    "            model_paths[feature_type] = model_path\n",
    "            initial_weights[feature_type] = 1.0 # Waga do normalizacji w późniejszym etapie\n",
    "        else:\n",
    "            print(f\"Ostrzeżenie: Brak modelu dla {feature_type}, mimo istnienia pliku cech.\")\n",
    "            # Decyzja o kontynuacji bez tego modelu lub zgłoszenie błędu.\n",
    "            # Na razie pominięcie tego typu cechy w modelu.\n",
    "            del feature_files[feature_type] # Usunięcie wpisu o pliku cech, gdy brak modelu\n",
    "            \n",
    "    # W przypadku brakujących plików cech, zgłoszenie błędu\n",
    "    if missing_feature_files:\n",
    "        error_message = (\n",
    "            f\"Błąd: Brak plików cech dla: {', '.join(missing_feature_files)}. \"\n",
    "            f\"Zaleca się uruchomienie funkcji `process_dataset` w pliku `ResNet_porównanie.ipynb`, \"\n",
    "            f\"aby wygenerować brakujące pliki w folderze `processed_features`.\"\n",
    "        )\n",
    "        raise FileNotFoundError(error_message)\n",
    "        \n",
    "    # Weryfikacja, czy znaleziono jakiekolwiek działające pary model-cechy\n",
    "    if not model_paths:\n",
    "        raise ValueError(\"Brak działających modeli i odpowiadających im plików cech! \"\n",
    "                         \"Zaleca się sprawdzenie folderów 'feature_comparison_results' i 'processed_features'.\")\n",
    "\n",
    "    # Normalizacja wag, aby sumowały się do 1\n",
    "    num_features = len(model_paths)\n",
    "    initial_weights = {k: 1.0 / num_features for k in model_paths.keys()}\n",
    "    \n",
    "    # Tworzenie konfiguracji\n",
    "    config = {\n",
    "        \"model_paths\": model_paths,\n",
    "        \"model_class\": AudioResNet,\n",
    "        \"feature_files\": feature_files,\n",
    "        \"initial_weights\": initial_weights,\n",
    "        \"output_dir\": ENSEMBLE_OUTPUT_DIR,\n",
    "        \"experiment_name\": f\"ensemble_model_{datetime.now().strftime('%Y%m%d_%H%M%S')}\",\n",
    "        \"test_split\": TEST_SPLIT,\n",
    "        \"batch_size\": BATCH_SIZE,\n",
    "        \"optimization\": {\n",
    "            \"n_trials\": OPTUNA_TRIALS,\n",
    "            \"timeout\": OPTUNA_TIMEOUT,\n",
    "            \"n_folds\": CV_FOLDS\n",
    "        },\n",
    "        \"class_names\": CLASS_NAMES,\n",
    "        \"random_seed\": SEED\n",
    "    }\n",
    "    \n",
    "    \n",
    "    print(f\"\\nZnaleziono {len(model_paths)} działających par model-cechy:\")\n",
    "    for feat in model_paths.keys():\n",
    "        print(f\"  - {feat}\")\n",
    "    \n",
    "    return config"
   ]
  },
  {
   "cell_type": "markdown",
   "id": "f572fa4e",
   "metadata": {},
   "source": [
    "## Konfiguracja modelu ensemble z wybranymi cechami"
   ]
  },
  {
   "cell_type": "code",
   "execution_count": 13,
   "id": "949c744c",
   "metadata": {},
   "outputs": [
    {
     "name": "stdout",
     "output_type": "stream",
     "text": [
      "Typy cech wybrane do modelu ensemble: melspectrogram, mfcc, chroma\n",
      "\n",
      "Znaleziono 3 działających par model-cechy:\n",
      "  - melspectrogram\n",
      "  - mfcc\n",
      "  - chroma\n"
     ]
    }
   ],
   "source": [
    "# Automatyczne wykrywanie dostępnych modeli\n",
    "# CONFIG = auto_configure_ensemble()\n",
    "\n",
    "# Selekcja konkretnych reprezentacji\n",
    "selected_features = [\"melspectrogram\", \"mfcc\", \"chroma\"]\n",
    "CONFIG = auto_configure_ensemble(feature_types=selected_features)\n",
    "\n",
    "# Modyfikacja wygenerowanej konfiguracji w celu dostosowania liczby prób optymalizacji\n",
    "# CONFIG[\"optimization\"][\"n_trials\"] = 100  # Ustalenie liczby prób optymalizacji"
   ]
  },
  {
   "cell_type": "markdown",
   "id": "023243ea",
   "metadata": {},
   "source": [
    "## Opis funkcji `auto_configure_ensemble`:\n",
    "Funkcja `auto_configure_ensemble` w pliku `ResNet_ensemble.ipynb` automatycznie przygotowuje model ensemble, przeszukując katalogi zdefiniowane w `config.py` w poszukiwaniu najnowszych modeli i plików cech dla różnych reprezentacji audio. Tworzy konfigurację zawierającą ścieżki do modeli, pliki cech, klasę modelu `AudioResNet` (z resnet_model_definition.py), znormalizowane wagi początkowe oraz parametry eksperymentu i optymalizacji.\n",
    "## Uzasadnienie architektury i featurów:\n",
    "Architektura ensemble łączy predykcje różnych modeli bazowych, analizujących odmienne cechy audio, co pozwala lepiej uchwycić emocje w dźwięku. W szczególności model ensemble osiągnął najlepsze wyniki po kilku próbach z różnymi konfiguracjami, wykorzystując trzy reprezentacje: chroma (harmonia i tony), melspectrogram (częstotliwości dostosowane do ludzkiego słuchu) oraz mfcc (cechy cepstralne istotne w analizie mowy). Automatyzacja konfiguracji oszczędza czas i minimalizuje błędy, umożliwiając skupienie się na analizie wyników.\n",
    "## Analiza pliku `ensemble_trainer.py`:\n",
    "Plik `ensemble_trainer.py` definiuje klasę `EnsembleModelTrainer`, która zarządza trenowaniem i oceną modelu ensemble. Odpowiada za ładowanie modeli   `AudioResNet` i danych cech, optymalizację wag za pomocą Optuna (z parametrami z `config.py`), ocenę modelu na zbiorze testowym, generowanie macierzy pomyłek oraz analizę błędów. Wykorzystuje MLflow do logowania eksperymentów, a walidacja krzyżowa i podział danych (zgodnie z `TEST_SPLIT`) zapewniają rzetelność wyników.\n",
    "\n",
    "Zastosowanie ensemble z wybranymi cechami audio (chroma, melspectrogram, mfcc) pozwala uchwycić złożoność emocji w dźwiękach, a modularna struktura `EnsembleModelTrainer` ułatwia zarządzanie eksperymentami. Automatyzacja optymalizacji wag i logowanie wyników wspierają efektywność i powtarzalność, co jest kluczowe w badaniach nad rozpoznawaniem emocji."
   ]
  },
  {
   "cell_type": "code",
   "execution_count": 14,
   "id": "2a74c86d",
   "metadata": {},
   "outputs": [
    {
     "name": "stdout",
     "output_type": "stream",
     "text": [
      "Główny katalog wyjściowy utworzony: c:\\Users\\kubas\\Desktop\\Projekt dyplomowy\\Audio-Emotion-Recognition\\src\\ensemble_outputs\\ensemble_run_20250519_150653\n",
      "Próba załadowania modelu dla cechy 'melspectrogram' z c:\\Users\\kubas\\Desktop\\Projekt dyplomowy\\Audio-Emotion-Recognition\\src\\feature_comparison_results/melspectrogram\\best_model_melspectrogram_20250517_001727.pt\n",
      "Model załadowany pomyślnie z c:\\Users\\kubas\\Desktop\\Projekt dyplomowy\\Audio-Emotion-Recognition\\src\\feature_comparison_results/melspectrogram\\best_model_melspectrogram_20250517_001727.pt\n",
      "Pomyślnie załadowano model dla cechy 'melspectrogram'\n",
      "Próba załadowania modelu dla cechy 'mfcc' z c:\\Users\\kubas\\Desktop\\Projekt dyplomowy\\Audio-Emotion-Recognition\\src\\feature_comparison_results/mfcc\\best_model_mfcc_20250517_004119.pt\n",
      "Model załadowany pomyślnie z c:\\Users\\kubas\\Desktop\\Projekt dyplomowy\\Audio-Emotion-Recognition\\src\\feature_comparison_results/mfcc\\best_model_mfcc_20250517_004119.pt\n",
      "Pomyślnie załadowano model dla cechy 'mfcc'\n",
      "Próba załadowania modelu dla cechy 'chroma' z c:\\Users\\kubas\\Desktop\\Projekt dyplomowy\\Audio-Emotion-Recognition\\src\\feature_comparison_results/chroma\\best_model_chroma_20250517_005304.pt\n",
      "Model załadowany pomyślnie z c:\\Users\\kubas\\Desktop\\Projekt dyplomowy\\Audio-Emotion-Recognition\\src\\feature_comparison_results/chroma\\best_model_chroma_20250517_005304.pt\n",
      "Pomyślnie załadowano model dla cechy 'chroma'\n",
      "\n",
      "Podsumowanie ładowania modeli:\n",
      "- Załadowane modele: 3/3\n",
      "- Niepowodzenia: 0/3\n",
      "Inicjalizacja zakończona. Można przystąpić do optymalizacji lub treningu.\n"
     ]
    }
   ],
   "source": [
    "# Inicjalizacja konfiguracji\n",
    "if 'CONFIG' not in locals():\n",
    "    try:\n",
    "        print(\"Rozpoczynanie automatycznego generowania konfiguracji...\")\n",
    "        CONFIG = auto_configure_ensemble() \n",
    "    except Exception as e:\n",
    "        raise NameError(f\"Zmienna CONFIG nie jest zdefiniowana i nie udało się jej automatycznie wygenerować: {e}. Należy najpierw uruchomić komórkę konfiguracyjną lub upewnić się, że pliki modeli/cech są dostępne.\")\n",
    "\n",
    "# Tworzenie głównego katalogu wyjściowego dla bieżącego uruchomienia\n",
    "timestamp = datetime.now().strftime('%Y%m%d_%H%M%S')\n",
    "# Wykorzystanie podstawowego output_dir z konfiguracji\n",
    "base_output_dir = CONFIG.get(\"output_dir\", \"ensemble_outputs\") \n",
    "output_dir = os.path.join(base_output_dir, f\"ensemble_run_{timestamp}\")\n",
    "os.makedirs(output_dir, exist_ok=True)\n",
    "print(f\"Główny katalog wyjściowy utworzony: {output_dir}\")     \n",
    "\n",
    "# Inicjalizacja trenera z odpowiednim output_dir\n",
    "trainer = EnsembleModelTrainer(\n",
    "    model_paths=CONFIG[\"model_paths\"],\n",
    "    feature_files=CONFIG[\"feature_files\"],\n",
    "    model_class=CONFIG[\"model_class\"],\n",
    "    output_dir=output_dir\n",
    ")\n",
    "\n",
    "\n",
    "print(\"Inicjalizacja zakończona. Można przystąpić do optymalizacji lub treningu.\")"
   ]
  },
  {
   "cell_type": "markdown",
   "id": "2caf7337",
   "metadata": {},
   "source": [
    "## Optymalizacja wag"
   ]
  },
  {
   "cell_type": "markdown",
   "id": "1e993d5f",
   "metadata": {},
   "source": [
    "Poniżej pobierane są parametry optymalizacji z wcześniej zdefiniowanej konfiguracji `CONFIG`, takie jak liczba prób (`n_trials`), limit czasu (`timeout`), liczba foldów walidacji krzyżowej (`n_folds`) oraz proporcja danych testowych (`test_size`). Następnie wywoływana jest metoda `optimize_weights` obiektu `trainer`, która wykorzystuje bibliotekę **Optuna** do znalezienia najlepszych wag dla każdego modelu bazowego w ensemble. Na koniec wyświetlane są informacje o zakończeniu optymalizacji oraz uzyskane najlepsze wagi (`best_weights`).\n",
    "\n",
    "Optymalizacja wag jest kluczowym krokiem w budowie modelu ensemble, ponieważ pozwala określić, jak bardzo każdy model bazowy (dla różnych cech audio) wpływa na ostateczną predykcję. Użycie Optuna automatyzuje ten proces, testując różne kombinacje wag w oparciu o walidację krzyżową, co prowadzi do poprawy dokładności modelu. Logowanie parametrów i wyników zapewnia przejrzystość i możliwość analizy procesu optymalizacji."
   ]
  },
  {
   "cell_type": "code",
   "execution_count": 15,
   "id": "576e59a8",
   "metadata": {},
   "outputs": [
    {
     "name": "stdout",
     "output_type": "stream",
     "text": [
      "Rozpoczynanie optymalizacji z 50 próbami...\n"
     ]
    },
    {
     "name": "stderr",
     "output_type": "stream",
     "text": [
      "2025/05/19 15:06:56 INFO mlflow.tracking.fluent: Experiment with name 'ensemble_optimization_20250519_150656' does not exist. Creating a new experiment.\n",
      "[I 2025-05-19 15:06:56,912] A new study created in memory with name: ensemble_optimization_20250519_150656\n",
      "[I 2025-05-19 15:07:22,613] Trial 0 finished with value: 0.98837749883775 and parameters: {'melspectrogram': 0.3745401188473625, 'mfcc': 0.9507143064099162, 'chroma': 0.7319939418114051}. Best is trial 0 with value: 0.98837749883775.\n",
      "[I 2025-05-19 15:07:42,358] Trial 1 finished with value: 0.9869827986982799 and parameters: {'melspectrogram': 0.5986584841970366, 'mfcc': 0.15601864044243652, 'chroma': 0.15599452033620265}. Best is trial 0 with value: 0.98837749883775.\n",
      "[I 2025-05-19 15:08:02,501] Trial 2 finished with value: 0.9888423988842399 and parameters: {'melspectrogram': 0.05808361216819946, 'mfcc': 0.8661761457749352, 'chroma': 0.6011150117432088}. Best is trial 2 with value: 0.9888423988842399.\n",
      "[I 2025-05-19 15:08:23,057] Trial 3 finished with value: 0.9860529986052998 and parameters: {'melspectrogram': 0.7080725777960455, 'mfcc': 0.020584494295802447, 'chroma': 0.9699098521619943}. Best is trial 2 with value: 0.9888423988842399.\n",
      "[I 2025-05-19 15:08:43,315] Trial 4 finished with value: 0.9869827986982799 and parameters: {'melspectrogram': 0.8324426408004217, 'mfcc': 0.21233911067827616, 'chroma': 0.18182496720710062}. Best is trial 2 with value: 0.9888423988842399.\n",
      "[I 2025-05-19 15:09:04,653] Trial 5 finished with value: 0.9865178986517898 and parameters: {'melspectrogram': 0.18340450985343382, 'mfcc': 0.3042422429595377, 'chroma': 0.5247564316322378}. Best is trial 2 with value: 0.9888423988842399.\n",
      "[I 2025-05-19 15:09:26,578] Trial 6 finished with value: 0.9865178986517898 and parameters: {'melspectrogram': 0.43194501864211576, 'mfcc': 0.2912291401980419, 'chroma': 0.6118528947223795}. Best is trial 2 with value: 0.9888423988842399.\n",
      "[I 2025-05-19 15:09:47,703] Trial 7 finished with value: 0.9869827986982799 and parameters: {'melspectrogram': 0.13949386065204183, 'mfcc': 0.29214464853521815, 'chroma': 0.3663618432936917}. Best is trial 2 with value: 0.9888423988842399.\n",
      "[I 2025-05-19 15:10:08,598] Trial 8 finished with value: 0.9893072989307298 and parameters: {'melspectrogram': 0.45606998421703593, 'mfcc': 0.7851759613930136, 'chroma': 0.19967378215835974}. Best is trial 8 with value: 0.9893072989307298.\n",
      "[I 2025-05-19 15:10:29,988] Trial 9 finished with value: 0.98930729893073 and parameters: {'melspectrogram': 0.5142344384136116, 'mfcc': 0.5924145688620425, 'chroma': 0.046450412719997725}. Best is trial 9 with value: 0.98930729893073.\n",
      "[I 2025-05-19 15:10:50,551] Trial 10 finished with value: 0.9869827986982798 and parameters: {'melspectrogram': 0.9451365442303868, 'mfcc': 0.6499487225623292, 'chroma': 0.007547319316293266}. Best is trial 9 with value: 0.98930729893073.\n",
      "[I 2025-05-19 15:11:11,669] Trial 11 finished with value: 0.98837749883775 and parameters: {'melspectrogram': 0.3468508914066219, 'mfcc': 0.6400885024675564, 'chroma': 0.2842687426077016}. Best is trial 9 with value: 0.98930729893073.\n",
      "[I 2025-05-19 15:11:33,204] Trial 12 finished with value: 0.9897721989772199 and parameters: {'melspectrogram': 0.5798511290004849, 'mfcc': 0.7471522741026703, 'chroma': 0.038579466065655904}. Best is trial 12 with value: 0.9897721989772199.\n",
      "[I 2025-05-19 15:11:54,169] Trial 13 finished with value: 0.9874476987447699 and parameters: {'melspectrogram': 0.6437127366238236, 'mfcc': 0.5045490626558228, 'chroma': 0.008686035996669186}. Best is trial 12 with value: 0.9897721989772199.\n",
      "[I 2025-05-19 15:12:16,262] Trial 14 finished with value: 0.9874476987447699 and parameters: {'melspectrogram': 0.5705159860373523, 'mfcc': 0.5356242640354899, 'chroma': 0.3826742869365834}. Best is trial 12 with value: 0.9897721989772199.\n",
      "[I 2025-05-19 15:12:39,096] Trial 15 finished with value: 0.9888423988842399 and parameters: {'melspectrogram': 0.7546466097724528, 'mfcc': 0.7331265877657684, 'chroma': 0.10611651328702915}. Best is trial 12 with value: 0.9897721989772199.\n",
      "[I 2025-05-19 15:12:58,373] Trial 16 finished with value: 0.9879125987912598 and parameters: {'melspectrogram': 0.26699107294536967, 'mfcc': 0.4276572368943822, 'chroma': 0.3419447044306994}. Best is trial 12 with value: 0.9897721989772199.\n",
      "[I 2025-05-19 15:13:18,648] Trial 17 finished with value: 0.9879125987912598 and parameters: {'melspectrogram': 0.5277788930300321, 'mfcc': 0.99234106721687, 'chroma': 0.8718207898963263}. Best is trial 12 with value: 0.9897721989772199.\n",
      "[I 2025-05-19 15:13:38,067] Trial 18 finished with value: 0.9869827986982798 and parameters: {'melspectrogram': 0.8558487731576202, 'mfcc': 0.6245714188726499, 'chroma': 0.05232843533684121}. Best is trial 12 with value: 0.9897721989772199.\n",
      "[I 2025-05-19 15:13:57,404] Trial 19 finished with value: 0.9879125987912598 and parameters: {'melspectrogram': 0.9960165317474355, 'mfcc': 0.8456422826767468, 'chroma': 0.24666513588105113}. Best is trial 12 with value: 0.9897721989772199.\n",
      "[I 2025-05-19 15:14:17,340] Trial 20 finished with value: 0.9865178986517898 and parameters: {'melspectrogram': 0.6872707510679238, 'mfcc': 0.41692460832750067, 'chroma': 0.09734341337512589}. Best is trial 12 with value: 0.9897721989772199.\n",
      "[I 2025-05-19 15:14:36,799] Trial 21 finished with value: 0.9897721989772199 and parameters: {'melspectrogram': 0.4778919246561321, 'mfcc': 0.756396774553744, 'chroma': 0.20191449549975196}. Best is trial 12 with value: 0.9897721989772199.\n",
      "[I 2025-05-19 15:14:56,583] Trial 22 finished with value: 0.9897721989772199 and parameters: {'melspectrogram': 0.5017273607245788, 'mfcc': 0.7329569200275828, 'chroma': 0.10475712837705971}. Best is trial 12 with value: 0.9897721989772199.\n",
      "[I 2025-05-19 15:15:16,563] Trial 23 finished with value: 0.98837749883775 and parameters: {'melspectrogram': 0.3729015078077597, 'mfcc': 0.7290790657918866, 'chroma': 0.2660155847271595}. Best is trial 12 with value: 0.9897721989772199.\n",
      "[I 2025-05-19 15:15:35,490] Trial 24 finished with value: 0.9893072989307298 and parameters: {'melspectrogram': 0.2737025157820342, 'mfcc': 0.8742124071096369, 'chroma': 0.46089071411007027}. Best is trial 12 with value: 0.9897721989772199.\n",
      "[I 2025-05-19 15:15:55,751] Trial 25 finished with value: 0.9893072989307298 and parameters: {'melspectrogram': 0.4630659134973512, 'mfcc': 0.7536097643611694, 'chroma': 0.13621237457538082}. Best is trial 12 with value: 0.9897721989772199.\n",
      "[I 2025-05-19 15:16:15,073] Trial 26 finished with value: 0.9888423988842399 and parameters: {'melspectrogram': 0.5932022372608293, 'mfcc': 0.6895222284882294, 'chroma': 0.22970648316374825}. Best is trial 12 with value: 0.9897721989772199.\n",
      "[I 2025-05-19 15:16:34,360] Trial 27 finished with value: 0.98930729893073 and parameters: {'melspectrogram': 0.7892622647663816, 'mfcc': 0.8264347993597301, 'chroma': 0.10484006689960411}. Best is trial 12 with value: 0.9897721989772199.\n",
      "[I 2025-05-19 15:16:55,912] Trial 28 finished with value: 0.98930729893073 and parameters: {'melspectrogram': 0.6596908511602413, 'mfcc': 0.9143852059760643, 'chroma': 0.31176576548124896}. Best is trial 12 with value: 0.9897721989772199.\n",
      "[I 2025-05-19 15:17:19,106] Trial 29 finished with value: 0.98837749883775 and parameters: {'melspectrogram': 0.31999316860971216, 'mfcc': 0.9385679238579697, 'chroma': 0.7509972360125259}. Best is trial 12 with value: 0.9897721989772199.\n",
      "[I 2025-05-19 15:17:40,543] Trial 30 finished with value: 0.9874476987447699 and parameters: {'melspectrogram': 0.4122589336189653, 'mfcc': 0.5685573638058781, 'chroma': 0.413655361820489}. Best is trial 12 with value: 0.9897721989772199.\n",
      "[I 2025-05-19 15:18:01,091] Trial 31 finished with value: 0.98930729893073 and parameters: {'melspectrogram': 0.5305097326278353, 'mfcc': 0.5942965120944094, 'chroma': 0.06389988727608029}. Best is trial 12 with value: 0.9897721989772199.\n",
      "[I 2025-05-19 15:18:21,757] Trial 32 finished with value: 0.9897721989772199 and parameters: {'melspectrogram': 0.5030067096806224, 'mfcc': 0.68917920056482, 'chroma': 0.17491981391369707}. Best is trial 12 with value: 0.9897721989772199.\n",
      "[I 2025-05-19 15:18:41,826] Trial 33 finished with value: 0.9888423988842399 and parameters: {'melspectrogram': 0.6115941925609283, 'mfcc': 0.7119071040856556, 'chroma': 0.17508504057930907}. Best is trial 12 with value: 0.9897721989772199.\n",
      "[I 2025-05-19 15:19:02,177] Trial 34 finished with value: 0.9893072989307298 and parameters: {'melspectrogram': 0.4708328009670898, 'mfcc': 0.7958677618935732, 'chroma': 0.1576939450229779}. Best is trial 12 with value: 0.9897721989772199.\n",
      "[I 2025-05-19 15:19:22,882] Trial 35 finished with value: 0.9888423988842399 and parameters: {'melspectrogram': 0.5646669175404117, 'mfcc': 0.6785710272178809, 'chroma': 0.1953214984501455}. Best is trial 12 with value: 0.9897721989772199.\n",
      "[I 2025-05-19 15:19:43,018] Trial 36 finished with value: 0.9888423988842399 and parameters: {'melspectrogram': 0.40360763844928266, 'mfcc': 0.4599447911421645, 'chroma': 0.1335498979442138}. Best is trial 12 with value: 0.9897721989772199.\n",
      "[I 2025-05-19 15:20:03,465] Trial 37 finished with value: 0.9897721989772199 and parameters: {'melspectrogram': 0.49754079334710943, 'mfcc': 0.8982982668189167, 'chroma': 0.00875174577268236}. Best is trial 12 with value: 0.9897721989772199.\n",
      "[I 2025-05-19 15:20:24,236] Trial 38 finished with value: 0.9879125987912598 and parameters: {'melspectrogram': 0.7284137842452189, 'mfcc': 0.7924630487580581, 'chroma': 0.5038725655174225}. Best is trial 12 with value: 0.9897721989772199.\n",
      "[I 2025-05-19 15:20:44,332] Trial 39 finished with value: 0.9888423988842399 and parameters: {'melspectrogram': 0.20418298636039556, 'mfcc': 0.9974884302911802, 'chroma': 0.21504625160546406}. Best is trial 12 with value: 0.9897721989772199.\n",
      "[I 2025-05-19 15:21:04,657] Trial 40 finished with value: 0.9855880985588099 and parameters: {'melspectrogram': 0.0853853689703643, 'mfcc': 0.08188115492492543, 'chroma': 0.3240450676768639}. Best is trial 12 with value: 0.9897721989772199.\n",
      "[I 2025-05-19 15:21:24,914] Trial 41 finished with value: 0.9897721989772199 and parameters: {'melspectrogram': 0.49156772452172864, 'mfcc': 0.9017041232840802, 'chroma': 0.06272718335414926}. Best is trial 12 with value: 0.9897721989772199.\n",
      "[I 2025-05-19 15:21:45,572] Trial 42 finished with value: 0.9893072989307298 and parameters: {'melspectrogram': 0.6312347543994457, 'mfcc': 0.8565586822871205, 'chroma': 0.012001176733061364}. Best is trial 12 with value: 0.9897721989772199.\n",
      "[I 2025-05-19 15:22:06,610] Trial 43 finished with value: 0.9897721989772199 and parameters: {'melspectrogram': 0.5467907797928104, 'mfcc': 0.7646135721885478, 'chroma': 0.09563836937174355}. Best is trial 12 with value: 0.9897721989772199.\n",
      "[I 2025-05-19 15:22:27,403] Trial 44 finished with value: 0.98837749883775 and parameters: {'melspectrogram': 0.4267653053415788, 'mfcc': 0.8114845261832093, 'chroma': 0.6615521562826412}. Best is trial 12 with value: 0.9897721989772199.\n",
      "[I 2025-05-19 15:22:50,085] Trial 45 finished with value: 0.9893072989307298 and parameters: {'melspectrogram': 0.4958154794110836, 'mfcc': 0.6614421325221612, 'chroma': 0.0077022313190932695}. Best is trial 12 with value: 0.9897721989772199.\n",
      "[I 2025-05-19 15:23:12,613] Trial 46 finished with value: 0.9888423988842399 and parameters: {'melspectrogram': 0.33241656289980087, 'mfcc': 0.8916281380239106, 'chroma': 0.15717080380913523}. Best is trial 12 with value: 0.9897721989772199.\n",
      "[I 2025-05-19 15:23:33,549] Trial 47 finished with value: 0.9888423988842399 and parameters: {'melspectrogram': 0.4438539110833267, 'mfcc': 0.9515011447558825, 'chroma': 0.06564892429148818}. Best is trial 12 with value: 0.9897721989772199.\n",
      "[I 2025-05-19 15:23:54,734] Trial 48 finished with value: 0.98930729893073 and parameters: {'melspectrogram': 0.5823910633819078, 'mfcc': 0.7029081550434996, 'chroma': 0.11946319671139426}. Best is trial 12 with value: 0.9897721989772199.\n",
      "[I 2025-05-19 15:24:16,681] Trial 49 finished with value: 0.9888423988842399 and parameters: {'melspectrogram': 0.374526641979816, 'mfcc': 0.7661062427862346, 'chroma': 0.27357227878644863}. Best is trial 12 with value: 0.9897721989772199.\n",
      "c:\\Users\\kubas\\Desktop\\Projekt dyplomowy\\Audio-Emotion-Recognition\\src\\helpers\\ensemble_trainer.py:304: ExperimentalWarning: plot_optimization_history is experimental (supported from v2.2.0). The interface can change in the future.\n",
      "  optuna.visualization.matplotlib.plot_optimization_history(study)\n",
      "c:\\Users\\kubas\\Desktop\\Projekt dyplomowy\\Audio-Emotion-Recognition\\src\\helpers\\ensemble_trainer.py:314: ExperimentalWarning: plot_param_importances is experimental (supported from v2.2.0). The interface can change in the future.\n",
      "  optuna.visualization.matplotlib.plot_param_importances(study)\n"
     ]
    },
    {
     "name": "stdout",
     "output_type": "stream",
     "text": [
      "Optymalizacja zakończona!\n",
      "Najlepsze wagi: (0.9897721989772199, {'melspectrogram': 0.5798511290004849, 'mfcc': 0.7471522741026703, 'chroma': 0.038579466065655904})\n"
     ]
    },
    {
     "data": {
      "text/plain": [
       "<Figure size 1000x600 with 0 Axes>"
      ]
     },
     "metadata": {},
     "output_type": "display_data"
    },
    {
     "data": {
      "text/plain": [
       "<Figure size 1000x600 with 0 Axes>"
      ]
     },
     "metadata": {},
     "output_type": "display_data"
    }
   ],
   "source": [
    "# Komórka odpowiedzialna za optymalizację wag modelu, w której definiowane są parametry optymalizacji\n",
    "n_trials = CONFIG[\"optimization\"][\"n_trials\"]\n",
    "timeout = CONFIG[\"optimization\"][\"timeout\"]\n",
    "n_folds = CONFIG[\"optimization\"][\"n_folds\"]\n",
    "test_size = CONFIG[\"test_split\"]\n",
    "\n",
    "print(f\"Rozpoczynanie optymalizacji z {n_trials} próbami...\")\n",
    "best_weights = trainer.optimize_weights(\n",
    "    n_trials=n_trials,\n",
    "    timeout=timeout,\n",
    "    n_folds=n_folds,\n",
    "    test_size=test_size\n",
    ")\n",
    "\n",
    "print(\"Optymalizacja zakończona!\")\n",
    "print(f\"Najlepsze wagi: {best_weights}\")"
   ]
  },
  {
   "cell_type": "markdown",
   "id": "e0eefe60",
   "metadata": {},
   "source": [
    "## Trening i ewaluacja modelu"
   ]
  },
  {
   "cell_type": "markdown",
   "id": "cebe076d",
   "metadata": {},
   "source": [
    "Komórka poniżej umożliwia elastyczne testowanie modelu ensemble z różnymi zestawami wag – zarówno zoptymalizowanymi automatycznie, jak i ustawionymi ręcznie, co pozwala eksperymentować z wpływem poszczególnych reprezentacji audio na wynik. Wywołanie metody `train_and_evaluate` integruje proces treningu i oceny, korzystając z wcześniej przygotowanej konfiguracji."
   ]
  },
  {
   "cell_type": "code",
   "execution_count": 16,
   "id": "66cf5014",
   "metadata": {},
   "outputs": [
    {
     "name": "stderr",
     "output_type": "stream",
     "text": [
      "2025/05/19 15:24:17 INFO mlflow.tracking.fluent: Experiment with name 'ensemble_optimization_20250519_152417' does not exist. Creating a new experiment.\n",
      "[I 2025-05-19 15:24:17,824] A new study created in memory with name: ensemble_optimization_20250519_152417\n",
      "[I 2025-05-19 15:24:40,215] Trial 0 finished with value: 0.98837749883775 and parameters: {'melspectrogram': 0.3745401188473625, 'mfcc': 0.9507143064099162, 'chroma': 0.7319939418114051}. Best is trial 0 with value: 0.98837749883775.\n",
      "[I 2025-05-19 15:25:00,709] Trial 1 finished with value: 0.9869827986982799 and parameters: {'melspectrogram': 0.5986584841970366, 'mfcc': 0.15601864044243652, 'chroma': 0.15599452033620265}. Best is trial 0 with value: 0.98837749883775.\n",
      "[I 2025-05-19 15:25:21,751] Trial 2 finished with value: 0.9888423988842399 and parameters: {'melspectrogram': 0.05808361216819946, 'mfcc': 0.8661761457749352, 'chroma': 0.6011150117432088}. Best is trial 2 with value: 0.9888423988842399.\n",
      "[I 2025-05-19 15:25:43,647] Trial 3 finished with value: 0.9860529986052998 and parameters: {'melspectrogram': 0.7080725777960455, 'mfcc': 0.020584494295802447, 'chroma': 0.9699098521619943}. Best is trial 2 with value: 0.9888423988842399.\n",
      "[I 2025-05-19 15:26:04,524] Trial 4 finished with value: 0.9869827986982799 and parameters: {'melspectrogram': 0.8324426408004217, 'mfcc': 0.21233911067827616, 'chroma': 0.18182496720710062}. Best is trial 2 with value: 0.9888423988842399.\n",
      "[I 2025-05-19 15:26:26,319] Trial 5 finished with value: 0.9865178986517898 and parameters: {'melspectrogram': 0.18340450985343382, 'mfcc': 0.3042422429595377, 'chroma': 0.5247564316322378}. Best is trial 2 with value: 0.9888423988842399.\n",
      "[I 2025-05-19 15:26:47,994] Trial 6 finished with value: 0.9865178986517898 and parameters: {'melspectrogram': 0.43194501864211576, 'mfcc': 0.2912291401980419, 'chroma': 0.6118528947223795}. Best is trial 2 with value: 0.9888423988842399.\n",
      "[I 2025-05-19 15:27:09,201] Trial 7 finished with value: 0.9869827986982799 and parameters: {'melspectrogram': 0.13949386065204183, 'mfcc': 0.29214464853521815, 'chroma': 0.3663618432936917}. Best is trial 2 with value: 0.9888423988842399.\n",
      "[I 2025-05-19 15:27:30,534] Trial 8 finished with value: 0.9893072989307298 and parameters: {'melspectrogram': 0.45606998421703593, 'mfcc': 0.7851759613930136, 'chroma': 0.19967378215835974}. Best is trial 8 with value: 0.9893072989307298.\n",
      "[I 2025-05-19 15:27:51,590] Trial 9 finished with value: 0.98930729893073 and parameters: {'melspectrogram': 0.5142344384136116, 'mfcc': 0.5924145688620425, 'chroma': 0.046450412719997725}. Best is trial 9 with value: 0.98930729893073.\n",
      "[I 2025-05-19 15:28:14,123] Trial 10 finished with value: 0.9869827986982798 and parameters: {'melspectrogram': 0.9451365442303868, 'mfcc': 0.6499487225623292, 'chroma': 0.007547319316293266}. Best is trial 9 with value: 0.98930729893073.\n",
      "[I 2025-05-19 15:28:35,896] Trial 11 finished with value: 0.98837749883775 and parameters: {'melspectrogram': 0.3468508914066219, 'mfcc': 0.6400885024675564, 'chroma': 0.2842687426077016}. Best is trial 9 with value: 0.98930729893073.\n",
      "[I 2025-05-19 15:28:57,563] Trial 12 finished with value: 0.9897721989772199 and parameters: {'melspectrogram': 0.5798511290004849, 'mfcc': 0.7471522741026703, 'chroma': 0.038579466065655904}. Best is trial 12 with value: 0.9897721989772199.\n",
      "[I 2025-05-19 15:29:18,882] Trial 13 finished with value: 0.9874476987447699 and parameters: {'melspectrogram': 0.6437127366238236, 'mfcc': 0.5045490626558228, 'chroma': 0.008686035996669186}. Best is trial 12 with value: 0.9897721989772199.\n",
      "[I 2025-05-19 15:29:40,298] Trial 14 finished with value: 0.9874476987447699 and parameters: {'melspectrogram': 0.5705159860373523, 'mfcc': 0.5356242640354899, 'chroma': 0.3826742869365834}. Best is trial 12 with value: 0.9897721989772199.\n",
      "[I 2025-05-19 15:30:01,952] Trial 15 finished with value: 0.9888423988842399 and parameters: {'melspectrogram': 0.7546466097724528, 'mfcc': 0.7331265877657684, 'chroma': 0.10611651328702915}. Best is trial 12 with value: 0.9897721989772199.\n",
      "[I 2025-05-19 15:30:23,855] Trial 16 finished with value: 0.9879125987912598 and parameters: {'melspectrogram': 0.26699107294536967, 'mfcc': 0.4276572368943822, 'chroma': 0.3419447044306994}. Best is trial 12 with value: 0.9897721989772199.\n",
      "[I 2025-05-19 15:30:45,620] Trial 17 finished with value: 0.9879125987912598 and parameters: {'melspectrogram': 0.5277788930300321, 'mfcc': 0.99234106721687, 'chroma': 0.8718207898963263}. Best is trial 12 with value: 0.9897721989772199.\n",
      "[I 2025-05-19 15:31:05,604] Trial 18 finished with value: 0.9869827986982798 and parameters: {'melspectrogram': 0.8558487731576202, 'mfcc': 0.6245714188726499, 'chroma': 0.05232843533684121}. Best is trial 12 with value: 0.9897721989772199.\n",
      "[I 2025-05-19 15:31:27,067] Trial 19 finished with value: 0.9879125987912598 and parameters: {'melspectrogram': 0.9960165317474355, 'mfcc': 0.8456422826767468, 'chroma': 0.24666513588105113}. Best is trial 12 with value: 0.9897721989772199.\n",
      "[I 2025-05-19 15:31:46,694] Trial 20 finished with value: 0.9865178986517898 and parameters: {'melspectrogram': 0.6872707510679238, 'mfcc': 0.41692460832750067, 'chroma': 0.09734341337512589}. Best is trial 12 with value: 0.9897721989772199.\n",
      "[I 2025-05-19 15:32:05,752] Trial 21 finished with value: 0.9897721989772199 and parameters: {'melspectrogram': 0.4778919246561321, 'mfcc': 0.756396774553744, 'chroma': 0.20191449549975196}. Best is trial 12 with value: 0.9897721989772199.\n",
      "[I 2025-05-19 15:32:26,805] Trial 22 finished with value: 0.9897721989772199 and parameters: {'melspectrogram': 0.5017273607245788, 'mfcc': 0.7329569200275828, 'chroma': 0.10475712837705971}. Best is trial 12 with value: 0.9897721989772199.\n",
      "[I 2025-05-19 15:32:46,295] Trial 23 finished with value: 0.98837749883775 and parameters: {'melspectrogram': 0.3729015078077597, 'mfcc': 0.7290790657918866, 'chroma': 0.2660155847271595}. Best is trial 12 with value: 0.9897721989772199.\n",
      "[I 2025-05-19 15:33:06,638] Trial 24 finished with value: 0.9893072989307298 and parameters: {'melspectrogram': 0.2737025157820342, 'mfcc': 0.8742124071096369, 'chroma': 0.46089071411007027}. Best is trial 12 with value: 0.9897721989772199.\n",
      "[I 2025-05-19 15:33:28,906] Trial 25 finished with value: 0.9893072989307298 and parameters: {'melspectrogram': 0.4630659134973512, 'mfcc': 0.7536097643611694, 'chroma': 0.13621237457538082}. Best is trial 12 with value: 0.9897721989772199.\n",
      "[I 2025-05-19 15:33:50,399] Trial 26 finished with value: 0.9888423988842399 and parameters: {'melspectrogram': 0.5932022372608293, 'mfcc': 0.6895222284882294, 'chroma': 0.22970648316374825}. Best is trial 12 with value: 0.9897721989772199.\n",
      "[I 2025-05-19 15:34:10,165] Trial 27 finished with value: 0.98930729893073 and parameters: {'melspectrogram': 0.7892622647663816, 'mfcc': 0.8264347993597301, 'chroma': 0.10484006689960411}. Best is trial 12 with value: 0.9897721989772199.\n",
      "[I 2025-05-19 15:34:31,034] Trial 28 finished with value: 0.98930729893073 and parameters: {'melspectrogram': 0.6596908511602413, 'mfcc': 0.9143852059760643, 'chroma': 0.31176576548124896}. Best is trial 12 with value: 0.9897721989772199.\n",
      "[I 2025-05-19 15:34:52,375] Trial 29 finished with value: 0.98837749883775 and parameters: {'melspectrogram': 0.31999316860971216, 'mfcc': 0.9385679238579697, 'chroma': 0.7509972360125259}. Best is trial 12 with value: 0.9897721989772199.\n",
      "[I 2025-05-19 15:35:13,096] Trial 30 finished with value: 0.9874476987447699 and parameters: {'melspectrogram': 0.4122589336189653, 'mfcc': 0.5685573638058781, 'chroma': 0.413655361820489}. Best is trial 12 with value: 0.9897721989772199.\n",
      "[I 2025-05-19 15:35:33,298] Trial 31 finished with value: 0.98930729893073 and parameters: {'melspectrogram': 0.5305097326278353, 'mfcc': 0.5942965120944094, 'chroma': 0.06389988727608029}. Best is trial 12 with value: 0.9897721989772199.\n",
      "[I 2025-05-19 15:35:54,026] Trial 32 finished with value: 0.9897721989772199 and parameters: {'melspectrogram': 0.5030067096806224, 'mfcc': 0.68917920056482, 'chroma': 0.17491981391369707}. Best is trial 12 with value: 0.9897721989772199.\n",
      "[I 2025-05-19 15:36:14,208] Trial 33 finished with value: 0.9888423988842399 and parameters: {'melspectrogram': 0.6115941925609283, 'mfcc': 0.7119071040856556, 'chroma': 0.17508504057930907}. Best is trial 12 with value: 0.9897721989772199.\n",
      "[I 2025-05-19 15:36:34,777] Trial 34 finished with value: 0.9893072989307298 and parameters: {'melspectrogram': 0.4708328009670898, 'mfcc': 0.7958677618935732, 'chroma': 0.1576939450229779}. Best is trial 12 with value: 0.9897721989772199.\n",
      "[I 2025-05-19 15:36:55,575] Trial 35 finished with value: 0.9888423988842399 and parameters: {'melspectrogram': 0.5646669175404117, 'mfcc': 0.6785710272178809, 'chroma': 0.1953214984501455}. Best is trial 12 with value: 0.9897721989772199.\n",
      "[I 2025-05-19 15:37:16,553] Trial 36 finished with value: 0.9888423988842399 and parameters: {'melspectrogram': 0.40360763844928266, 'mfcc': 0.4599447911421645, 'chroma': 0.1335498979442138}. Best is trial 12 with value: 0.9897721989772199.\n",
      "[I 2025-05-19 15:37:37,190] Trial 37 finished with value: 0.9897721989772199 and parameters: {'melspectrogram': 0.49754079334710943, 'mfcc': 0.8982982668189167, 'chroma': 0.00875174577268236}. Best is trial 12 with value: 0.9897721989772199.\n",
      "[I 2025-05-19 15:37:58,111] Trial 38 finished with value: 0.9879125987912598 and parameters: {'melspectrogram': 0.7284137842452189, 'mfcc': 0.7924630487580581, 'chroma': 0.5038725655174225}. Best is trial 12 with value: 0.9897721989772199.\n",
      "[I 2025-05-19 15:38:18,608] Trial 39 finished with value: 0.9888423988842399 and parameters: {'melspectrogram': 0.20418298636039556, 'mfcc': 0.9974884302911802, 'chroma': 0.21504625160546406}. Best is trial 12 with value: 0.9897721989772199.\n",
      "[I 2025-05-19 15:38:39,235] Trial 40 finished with value: 0.9855880985588099 and parameters: {'melspectrogram': 0.0853853689703643, 'mfcc': 0.08188115492492543, 'chroma': 0.3240450676768639}. Best is trial 12 with value: 0.9897721989772199.\n",
      "[I 2025-05-19 15:38:59,807] Trial 41 finished with value: 0.9897721989772199 and parameters: {'melspectrogram': 0.49156772452172864, 'mfcc': 0.9017041232840802, 'chroma': 0.06272718335414926}. Best is trial 12 with value: 0.9897721989772199.\n",
      "[I 2025-05-19 15:39:20,319] Trial 42 finished with value: 0.9893072989307298 and parameters: {'melspectrogram': 0.6312347543994457, 'mfcc': 0.8565586822871205, 'chroma': 0.012001176733061364}. Best is trial 12 with value: 0.9897721989772199.\n",
      "[I 2025-05-19 15:39:40,339] Trial 43 finished with value: 0.9897721989772199 and parameters: {'melspectrogram': 0.5467907797928104, 'mfcc': 0.7646135721885478, 'chroma': 0.09563836937174355}. Best is trial 12 with value: 0.9897721989772199.\n",
      "[I 2025-05-19 15:40:01,416] Trial 44 finished with value: 0.98837749883775 and parameters: {'melspectrogram': 0.4267653053415788, 'mfcc': 0.8114845261832093, 'chroma': 0.6615521562826412}. Best is trial 12 with value: 0.9897721989772199.\n",
      "[I 2025-05-19 15:40:22,333] Trial 45 finished with value: 0.9893072989307298 and parameters: {'melspectrogram': 0.4958154794110836, 'mfcc': 0.6614421325221612, 'chroma': 0.0077022313190932695}. Best is trial 12 with value: 0.9897721989772199.\n",
      "[I 2025-05-19 15:40:42,235] Trial 46 finished with value: 0.9888423988842399 and parameters: {'melspectrogram': 0.33241656289980087, 'mfcc': 0.8916281380239106, 'chroma': 0.15717080380913523}. Best is trial 12 with value: 0.9897721989772199.\n",
      "[I 2025-05-19 15:41:02,838] Trial 47 finished with value: 0.9888423988842399 and parameters: {'melspectrogram': 0.4438539110833267, 'mfcc': 0.9515011447558825, 'chroma': 0.06564892429148818}. Best is trial 12 with value: 0.9897721989772199.\n",
      "[I 2025-05-19 15:41:23,499] Trial 48 finished with value: 0.98930729893073 and parameters: {'melspectrogram': 0.5823910633819078, 'mfcc': 0.7029081550434996, 'chroma': 0.11946319671139426}. Best is trial 12 with value: 0.9897721989772199.\n",
      "[I 2025-05-19 15:41:44,000] Trial 49 finished with value: 0.9888423988842399 and parameters: {'melspectrogram': 0.374526641979816, 'mfcc': 0.7661062427862346, 'chroma': 0.27357227878644863}. Best is trial 12 with value: 0.9897721989772199.\n",
      "c:\\Users\\kubas\\Desktop\\Projekt dyplomowy\\Audio-Emotion-Recognition\\src\\helpers\\ensemble_trainer.py:304: ExperimentalWarning: plot_optimization_history is experimental (supported from v2.2.0). The interface can change in the future.\n",
      "  optuna.visualization.matplotlib.plot_optimization_history(study)\n",
      "c:\\Users\\kubas\\Desktop\\Projekt dyplomowy\\Audio-Emotion-Recognition\\src\\helpers\\ensemble_trainer.py:314: ExperimentalWarning: plot_param_importances is experimental (supported from v2.2.0). The interface can change in the future.\n",
      "  optuna.visualization.matplotlib.plot_param_importances(study)\n"
     ]
    },
    {
     "name": "stdout",
     "output_type": "stream",
     "text": [
      "Trenowanie i ewaluacja modelu z wagami: {'melspectrogram': 0.5798511290004849, 'mfcc': 0.7471522741026703, 'chroma': 0.038579466065655904}\n",
      "Trenowanie i ewaluacja zakończona!\n",
      "Dokładność testowa: 0.9476\n",
      "Wynik F1 testu: 0.9477\n"
     ]
    },
    {
     "data": {
      "text/plain": [
       "<Figure size 1000x600 with 0 Axes>"
      ]
     },
     "metadata": {},
     "output_type": "display_data"
    },
    {
     "data": {
      "text/plain": [
       "<Figure size 1000x600 with 0 Axes>"
      ]
     },
     "metadata": {},
     "output_type": "display_data"
    }
   ],
   "source": [
    "# Komórka odpowiedzialna za trening i ewaluację modelu, która powinna być uruchomiona po zakończeniu optymalizacji lub przy użyciu zdefiniowanych wag.\n",
    "# Możliwość wykorzystania wag uzyskanych w poprzednim kroku lub zdefiniowanie własnych wag.\n",
    "# Przykład z własnymi wagami:\n",
    "\n",
    "\n",
    "# custom_weights = {\n",
    "# \"chroma\": 0.13857384163072003,\n",
    "# \"melspectrogram\": 0.31651310994496806,\n",
    "# \"mfcc\": 0.544913048424312\n",
    "# }\n",
    "best_score, best_weights = trainer.optimize_weights(\n",
    "    n_trials=n_trials,\n",
    "    timeout=timeout,\n",
    "    n_folds=n_folds,\n",
    "    test_size=test_size\n",
    ")\n",
    "\n",
    "weights_to_use = best_weights  # lub custom_weights, jeśli zdefiniowano\n",
    "\n",
    "print(f\"Trenowanie i ewaluacja modelu z wagami: {weights_to_use}\")\n",
    "ensemble_model, test_results = trainer.train_and_evaluate(\n",
    "    weights=weights_to_use,\n",
    "    test_size=CONFIG[\"test_split\"],\n",
    "    batch_size=CONFIG[\"batch_size\"]\n",
    ")\n",
    "\n",
    "\n",
    "print(\"Trenowanie i ewaluacja zakończona!\")\n",
    "print(f\"Dokładność testowa: {test_results.get('accuracy', 0.0):.4f}\")\n",
    "print(f\"Wynik F1 testu: {test_results.get('f1', 0.0):.4f}\")"
   ]
  },
  {
   "cell_type": "markdown",
   "id": "6910c08f",
   "metadata": {},
   "source": [
    "## Szczegółowe wyniki modelu"
   ]
  },
  {
   "cell_type": "code",
   "execution_count": 17,
   "id": "a710ea0b",
   "metadata": {},
   "outputs": [
    {
     "name": "stdout",
     "output_type": "stream",
     "text": [
      "Raport klasyfikacji:\n",
      "              precision    recall  f1-score   support\n",
      "\n",
      "       anger       0.95      0.97      0.96       150\n",
      "        fear       0.96      0.97      0.97       147\n",
      "   happiness       0.96      0.89      0.92       150\n",
      "     neutral       0.97      0.96      0.96       162\n",
      "     sadness       0.99      0.99      0.99       154\n",
      "   surprised       0.85      0.90      0.88       134\n",
      "\n",
      "    accuracy                           0.95       897\n",
      "   macro avg       0.95      0.95      0.95       897\n",
      "weighted avg       0.95      0.95      0.95       897\n",
      "\n"
     ]
    },
    {
     "data": {
      "image/png": "[encoded data removed]",
      "text/plain": [
       "<Figure size 1600x800 with 2 Axes>"
      ]
     },
     "metadata": {},
     "output_type": "display_data"
    }
   ],
   "source": [
    "# Komórka odpowiedzialna za wyświetlanie szczegółowych wyników\n",
    "# Wymagana po zakończeniu procesu treningu i ewaluacji\n",
    "if 'test_results' in locals():\n",
    "    # Generowanie szczegółowego raportu klasyfikacji\n",
    "    print(\"Raport klasyfikacji:\")\n",
    "    class_names = CONFIG[\"class_names\"]\n",
    "    print(classification_report(test_results['true'], test_results['preds'], target_names=class_names))\n",
    "    \n",
    "    # Tworzenie i wyświetlanie znormalizowanej macierzy konfuzji\n",
    "    plt.figure(figsize=(16, 8))\n",
    "    cm_normalized = test_results['cm'].astype('float') / test_results['cm'].sum(axis=1)[:, np.newaxis]\n",
    "    sns.heatmap(cm_normalized, annot=True, fmt='.2f', cmap='Purples',\n",
    "               xticklabels=class_names, yticklabels=class_names)\n",
    "    plt.title('Znormalizowana macierz konfuzji')\n",
    "    plt.ylabel('Prawdziwa etykieta')\n",
    "    plt.xlabel('Przewidywana etykieta')\n",
    "    plt.show()"
   ]
  }
 ],
 "metadata": {
  "kernelspec": {
   "display_name": "Python (Audio Emotion Recognition)",
   "language": "python",
   "name": "audio-emotion-recognition"
  },
  "language_info": {
   "codemirror_mode": {
    "name": "ipython",
    "version": 3
   },
   "file_extension": ".py",
   "mimetype": "text/x-python",
   "name": "python",
   "nbconvert_exporter": "python",
   "pygments_lexer": "ipython3",
   "version": "3.9.13"
  }
 },
 "nbformat": 4,
 "nbformat_minor": 5
}
