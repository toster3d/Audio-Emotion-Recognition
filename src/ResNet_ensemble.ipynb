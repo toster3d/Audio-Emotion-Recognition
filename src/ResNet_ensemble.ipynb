{
 "cells": [
  {
   "cell_type": "markdown",
   "id": "991424a6",
   "metadata": {},
   "source": [
    "# Importowanie niezbędnych bibliotek"
   ]
  },
  {
   "cell_type": "code",
   "execution_count": 1,
   "id": "4caa5eca",
   "metadata": {},
   "outputs": [
    {
     "name": "stdout",
     "output_type": "stream",
     "text": [
      "Using device: cpu\n"
     ]
    }
   ],
   "source": [
    "# Importy standardowej biblioteki\n",
    "import glob\n",
    "import os\n",
    "from datetime import datetime\n",
    "\n",
    "# Importy bibliotek zewnętrznych\n",
    "import mlflow\n",
    "import numpy as np\n",
    "import matplotlib.pyplot as plt\n",
    "import seaborn as sns\n",
    "from sklearn.metrics import (classification_report)\n",
    "\n",
    "# Importy własnych modułów\n",
    "from config import BATCH_SIZE, DEVICE,TEST_SPLIT, CLASS_NAMES,FEATURE_RESULTS_DIR, PROCESSED_FEATURES_DIR, ENSEMBLE_OUTPUT_DIR, OPTUNA_TRIALS, OPTUNA_TIMEOUT, CV_FOLDS, SEED\n",
    "\n",
    "from helpers.resnet_model_definition import AudioResNet\n",
    "\n",
    "from helpers.ensemble_trainer import EnsembleModelTrainer\n",
    "\n",
    "# Ustawienie domyślnego urządzenia\n",
    "print(f\"Using device: {DEVICE}\")"
   ]
  },
  {
   "cell_type": "markdown",
   "metadata": {},
   "source": [
    "## Automatyczna konfiguracja modelu ensemble"
   ]
  },
  {
   "cell_type": "markdown",
   "id": "cd507e5b",
   "metadata": {},
   "source": [
    "### Funkcja `find_latest_model`\n",
    "**Opis:**  \n",
    "Ta funkcja wyszukuje najnowszy plik modelu dla określonego typu cechy audio w katalogu z wynikami. Wykorzystuje wzorzec nazwy pliku, aby znaleźć wszystkie modele dla danego typu cechy, a następnie sortuje je według daty w nazwie pliku, zwracając najnowszy.\n",
    "\n",
    "**Uzasadnienie:**  \n",
    "Wybór najnowszego modelu jest kluczowy w procesie ensemble, ponieważ zapewnia, że używane są najbardziej aktualne wyniki treningu, co może wpływać na lepszą dokładność predykcji.\n",
    "\n",
    "### Funkcja `find_feature_file`\n",
    "**Opis:**  \n",
    "Funkcja ta wyszukuje plik z cechami audio dla określonego typu reprezentacji w katalogu z przetworzonymi cechami. Jeśli znajdzie więcej niż jeden plik, wybiera najnowszy na podstawie daty modyfikacji.\n",
    "\n",
    "**Uzasadnienie:**  \n",
    "Wybór odpowiedniego pliku z cechami jest niezbędny do zapewnienia, że dane wejściowe do modelu są aktualne i zgodne z typem cechy, co pozwala na spójność między danymi a modelem podczas predykcji lub treningu.\n",
    "\n",
    "### Funkcja `auto_configure_ensemble`\n",
    "**Opis:**  \n",
    "Funkcja automatycznie konfiguruje model ensemble, wyszukując dostępne typy cech w katalogu wyników, znajdując odpowiednie modele i pliki cech dla każdego typu, a następnie tworząc konfigurację z modelami, plikami cech, wagami początkowymi i parametrami eksperymentu.\n",
    "W tym fragmencie kodu definiowana jest struktura config jako słownik, który zawiera kluczowe ustawienia modelu ensemble. Obejmuje ścieżki do modeli (model_paths) i plików cech (feature_files), klasę modelu (AudioResNet z pliku resnet_model_definition.py), początkowe wagi dla ensemble (initial_weights), katalog wyjściowy (output_dir z config.py), nazwę eksperymentu, podział danych na testowe (test_split), rozmiar partii (batch_size), parametry optymalizacji Optuna (optimization), nazwy klas emocji (class_names) oraz ziarno losowości (random_seed), z których większość pochodzi z pliku config.py.\n",
    "\n",
    "**Uzasadnienie:**  \n",
    "Automatyczna konfiguracja pozwala na szybkie zestawienie modelu ensemble bez konieczności ręcznego określania ścieżek do modeli i plików cech, co minimalizuje ryzyko błędów ludzkich i przyspiesza proces przygotowania do treningu lub testowania. Funkcja sprawdza również, czy wszystkie wymagane pliki istnieją, co zapobiega problemom podczas dalszej pracy. Konfiguracja config centralizuje wszystkie parametry potrzebne do treningu i testowania modelu ensemble, zapewniając spójność między ustawieniami projektu (config.py), architekturą modelu (resnet_model_definition.py) a danymi, co ułatwia automatyzację i powtarzalność eksperymentów.\n"
   ]
  },
  {
   "cell_type": "code",
   "execution_count": 2,
   "id": "7aea7c6d",
   "metadata": {},
   "outputs": [],
   "source": [
    "def find_latest_model(feature_type):\n",
    "    \"\"\"Zwraca najnowszy model dla danej reprezentacji audio.\"\"\"\n",
    "    search_pattern = f\"{FEATURE_RESULTS_DIR}/{feature_type}/best_model_{feature_type}_*.pt\"\n",
    "    model_files = glob.glob(search_pattern)\n",
    "    \n",
    "    if not model_files:\n",
    "        return None\n",
    "    \n",
    "    # Sortowanie plików według daty w nazwie (najnowszy na końcu)\n",
    "    model_files.sort(key=lambda x: os.path.basename(x).split('_')[-1].split('.')[0])\n",
    "    return model_files[-1]\n",
    "\n",
    "def find_feature_file(feature_type):\n",
    "    \"\"\"Zwraca plik z cechami dla danej reprezentacji audio.\"\"\"\n",
    "    search_pattern = f\"{PROCESSED_FEATURES_DIR}/{feature_type}_*.pkl\"\n",
    "    feature_files = glob.glob(search_pattern)\n",
    "    \n",
    "    if not feature_files:\n",
    "        return None\n",
    "    \n",
    "    # W przypadku wielu plików, wybór najnowszego\n",
    "    if len(feature_files) > 1:\n",
    "        feature_files.sort(key=os.path.getmtime, reverse=True)\n",
    "    \n",
    "    return feature_files[0]\n",
    "\n",
    "def auto_configure_ensemble(feature_types=None):\n",
    "    \"\"\"\n",
    "    Konfiguracja modelu ensemble w sposób automatyczny.\n",
    "    \"\"\"\n",
    "    # Wykorzystanie zmiennych z config.py\n",
    "    if feature_types is None:\n",
    "        try:\n",
    "            feature_types = [d for d in os.listdir(FEATURE_RESULTS_DIR) \n",
    "                             if os.path.isdir(os.path.join(FEATURE_RESULTS_DIR, d))]\n",
    "        except FileNotFoundError:\n",
    "             raise FileNotFoundError(f\"Nie znaleziono katalogu '{FEATURE_RESULTS_DIR}'.\")\n",
    "    \n",
    "    print(f\"Typy cech wybrane do modelu ensemble: {', '.join(feature_types)}\")\n",
    "\n",
    "    model_paths = {}\n",
    "    feature_files = {}\n",
    "    initial_weights = {}\n",
    "    missing_feature_files = []\n",
    "    \n",
    "    for feature_type in feature_types:\n",
    "        # Weryfikacja pliku cech\n",
    "        feature_file = find_feature_file(feature_type)\n",
    "        if not feature_file:\n",
    "            missing_feature_files.append(feature_type)\n",
    "            print(f\"Ostrzeżenie: Brak pliku cech dla {feature_type}\")\n",
    "            continue # Kontynuacja do następnego typu, bez szukania modelu, gdy brak cech\n",
    "        \n",
    "        feature_files[feature_type] = feature_file\n",
    "        \n",
    "        # Wyszukiwanie modelu\n",
    "        model_path = find_latest_model(feature_type)\n",
    "        if model_path:\n",
    "            model_paths[feature_type] = model_path\n",
    "            initial_weights[feature_type] = 1.0 # Waga do normalizacji w późniejszym etapie\n",
    "        else:\n",
    "            print(f\"Ostrzeżenie: Brak modelu dla {feature_type}, mimo istnienia pliku cech.\")\n",
    "            # Decyzja o kontynuacji bez tego modelu lub zgłoszenie błędu.\n",
    "            # Na razie pominięcie tego typu cechy w modelu.\n",
    "            del feature_files[feature_type] # Usunięcie wpisu o pliku cech, gdy brak modelu\n",
    "            \n",
    "    # W przypadku brakujących plików cech, zgłoszenie błędu\n",
    "    if missing_feature_files:\n",
    "        error_message = (\n",
    "            f\"Błąd: Brak plików cech dla: {', '.join(missing_feature_files)}. \"\n",
    "            f\"Zaleca się uruchomienie funkcji `process_dataset` w pliku `ResNet_porównanie.ipynb`, \"\n",
    "            f\"aby wygenerować brakujące pliki w folderze `processed_features`.\"\n",
    "        )\n",
    "        raise FileNotFoundError(error_message)\n",
    "        \n",
    "    # Weryfikacja, czy znaleziono jakiekolwiek działające pary model-cechy\n",
    "    if not model_paths:\n",
    "        raise ValueError(\"Brak działających modeli i odpowiadających im plików cech! \"\n",
    "                         \"Zaleca się sprawdzenie folderów 'feature_comparison_results' i 'processed_features'.\")\n",
    "\n",
    "    # Normalizacja wag, aby sumowały się do 1\n",
    "    num_features = len(model_paths)\n",
    "    initial_weights = {k: 1.0 / num_features for k in model_paths.keys()}\n",
    "    \n",
    "    # Tworzenie konfiguracji\n",
    "    config = {\n",
    "        \"model_paths\": model_paths,\n",
    "        \"model_class\": AudioResNet,\n",
    "        \"feature_files\": feature_files,\n",
    "        \"initial_weights\": initial_weights,\n",
    "        \"output_dir\": ENSEMBLE_OUTPUT_DIR,\n",
    "        \"experiment_name\": f\"ensemble_model_{datetime.now().strftime('%Y%m%d_%H%M%S')}\",\n",
    "        \"test_split\": TEST_SPLIT,\n",
    "        \"batch_size\": BATCH_SIZE,\n",
    "        \"optimization\": {\n",
    "            \"n_trials\": OPTUNA_TRIALS,\n",
    "            \"timeout\": OPTUNA_TIMEOUT,\n",
    "            \"n_folds\": CV_FOLDS\n",
    "        },\n",
    "        \"class_names\": CLASS_NAMES,\n",
    "        \"random_seed\": SEED\n",
    "    }\n",
    "    \n",
    "    \n",
    "    print(f\"\\nZnaleziono {len(model_paths)} działających par model-cechy:\")\n",
    "    for feat in model_paths.keys():\n",
    "        print(f\"  - {feat}\")\n",
    "    \n",
    "    return config"
   ]
  },
  {
   "cell_type": "markdown",
   "id": "f572fa4e",
   "metadata": {},
   "source": [
    "## Konfiguracja modelu ensemble z wybranymi cechami"
   ]
  },
  {
   "cell_type": "code",
   "execution_count": 3,
   "id": "949c744c",
   "metadata": {},
   "outputs": [
    {
     "name": "stdout",
     "output_type": "stream",
     "text": [
      "Wybrane typy cech do modelu ensemble: melspectrogram, mfcc, chroma\n",
      "\n",
      "Znaleziono 3 działających par model-cechy:\n",
      "  - melspectrogram\n",
      "  - mfcc\n",
      "  - chroma\n"
     ]
    }
   ],
   "source": [
    "# Automatyczne wykrywanie dostępnych modeli\n",
    "# CONFIG = auto_configure_ensemble()\n",
    "\n",
    "# Selekcja konkretnych reprezentacji\n",
    "selected_features = [\"melspectrogram\", \"mfcc\", \"chroma\"]\n",
    "CONFIG = auto_configure_ensemble(feature_types=selected_features)\n",
    "\n",
    "# Modyfikacja wygenerowanej konfiguracji w celu dostosowania liczby prób optymalizacji\n",
    "# CONFIG[\"optimization\"][\"n_trials\"] = 100  # Ustalenie liczby prób optymalizacji"
   ]
  },
  {
   "cell_type": "markdown",
   "id": "023243ea",
   "metadata": {},
   "source": [
    "## Opis funkcji `auto_configure_ensemble`:\n",
    "Funkcja `auto_configure_ensemble` w pliku `ResNet_ensemble.ipynb` automatycznie przygotowuje model ensemble, przeszukując katalogi zdefiniowane w `config.py` w poszukiwaniu najnowszych modeli i plików cech dla różnych reprezentacji audio. Tworzy konfigurację zawierającą ścieżki do modeli, pliki cech, klasę modelu `AudioResNet` (z resnet_model_definition.py), znormalizowane wagi początkowe oraz parametry eksperymentu i optymalizacji.\n",
    "## Uzasadnienie architektury i featurów:\n",
    "Architektura ensemble łączy predykcje różnych modeli bazowych, analizujących odmienne cechy audio, co pozwala lepiej uchwycić emocje w dźwięku. W szczególności model ensemble osiągnął najlepsze wyniki po kilku próbach z różnymi konfiguracjami, wykorzystując trzy reprezentacje: chroma (harmonia i tony), melspectrogram (częstotliwości dostosowane do ludzkiego słuchu) oraz mfcc (cechy cepstralne istotne w analizie mowy). Automatyzacja konfiguracji oszczędza czas i minimalizuje błędy, umożliwiając skupienie się na analizie wyników.\n",
    "## Analiza pliku `ensemble_trainer.py`:\n",
    "Plik `ensemble_trainer.py` definiuje klasę `EnsembleModelTrainer`, która zarządza trenowaniem i oceną modelu ensemble. Odpowiada za ładowanie modeli   `AudioResNet` i danych cech, optymalizację wag za pomocą Optuna (z parametrami z `config.py`), ocenę modelu na zbiorze testowym, generowanie macierzy pomyłek oraz analizę błędów. Wykorzystuje MLflow do logowania eksperymentów, a walidacja krzyżowa i podział danych (zgodnie z `TEST_SPLIT`) zapewniają rzetelność wyników.\n",
    "\n",
    "Zastosowanie ensemble z wybranymi cechami audio (chroma, melspectrogram, mfcc) pozwala uchwycić złożoność emocji w dźwiękach, a modularna struktura `EnsembleModelTrainer` ułatwia zarządzanie eksperymentami. Automatyzacja optymalizacji wag i logowanie wyników wspierają efektywność i powtarzalność, co jest kluczowe w badaniach nad rozpoznawaniem emocji."
   ]
  },
  {
   "cell_type": "code",
   "execution_count": 4,
   "id": "2a74c86d",
   "metadata": {},
   "outputs": [
    {
     "name": "stderr",
     "output_type": "stream",
     "text": [
      "2025/04/25 18:29:50 INFO mlflow.tracking.fluent: Experiment with name 'ensemble_model_20250425_182948' does not exist. Creating a new experiment.\n"
     ]
    },
    {
     "name": "stdout",
     "output_type": "stream",
     "text": [
      "Utworzono główny katalog wyjściowy: c:\\Users\\kubas\\Desktop\\Projekt dyplomowy\\Audio-Emotion-Recognition\\src\\ensemble_outputs\\ensemble_run_20250425_182950\n",
      "MLflow initialized: True\n",
      "MLflow experiment name: ensemble_model_20250425_182948\n",
      "Initialization complete. Now you can run optimization or training.\n"
     ]
    }
   ],
   "source": [
    "# Inicjalizacja konfiguracji\n",
    "if 'CONFIG' not in locals():\n",
    "    try:\n",
    "        print(\"Rozpoczynanie automatycznego generowania konfiguracji...\")\n",
    "        CONFIG = auto_configure_ensemble() \n",
    "    except Exception as e:\n",
    "        raise NameError(f\"Zmienna CONFIG nie jest zdefiniowana i nie udało się jej automatycznie wygenerować: {e}. Należy najpierw uruchomić komórkę konfiguracyjną lub upewnić się, że pliki modeli/cech są dostępne.\")\n",
    "\n",
    "# Tworzenie głównego katalogu wyjściowego dla bieżącego uruchomienia\n",
    "timestamp = datetime.now().strftime('%Y%m%d_%H%M%S')\n",
    "# Wykorzystanie podstawowego output_dir z konfiguracji\n",
    "base_output_dir = CONFIG.get(\"output_dir\", \"ensemble_outputs\") \n",
    "output_dir = os.path.join(base_output_dir, f\"ensemble_run_{timestamp}\")\n",
    "os.makedirs(output_dir, exist_ok=True)\n",
    "print(f\"Główny katalog wyjściowy utworzony: {output_dir}\")\n",
    "\n",
    "# Tworzenie podkatalogów w obrębie specyficznego dla uruchomienia output_dir\n",
    "os.makedirs(os.path.join(output_dir, \"models\"), exist_ok=True)\n",
    "os.makedirs(os.path.join(output_dir, \"evaluation\"), exist_ok=True)\n",
    "os.makedirs(os.path.join(output_dir, \"optimization_plots\"), exist_ok=True)\n",
    "os.makedirs(os.path.join(output_dir, \"error_analysis\"), exist_ok=True) \n",
    "os.makedirs(os.path.join(output_dir, \"calibration\"), exist_ok=True)  \n",
    "os.makedirs(os.path.join(output_dir, \"logs\"), exist_ok=True)       \n",
    "\n",
    "# Zapewnienie istnienia katalogu mlruns oraz jego struktury\n",
    "mlruns_dir = \"./mlruns\"\n",
    "os.makedirs(mlruns_dir, exist_ok=True)\n",
    "os.makedirs(os.path.join(mlruns_dir, \".trash\"), exist_ok=True)\n",
    "\n",
    "# Inicjalizacja MLflow\n",
    "mlflow_initialized = False # Zakłada się, że inicjalizacja nie powiodła się\n",
    "try:\n",
    "    mlflow.set_tracking_uri(f\"file:{mlruns_dir}\")\n",
    "    # Wykorzystanie nazwy eksperymentu z konfiguracji\n",
    "    experiment_name = CONFIG.get(\"experiment_name\", f\"ensemble_model_{timestamp}\") \n",
    "    mlflow.set_experiment(experiment_name)\n",
    "    mlflow_initialized = True\n",
    "    print(f\"Inicjalizacja MLflow zakończona: {mlflow_initialized}\")\n",
    "    print(f\"Nazwa eksperymentu MLflow: {experiment_name}\")\n",
    "except Exception as e:\n",
    "    print(f\"Ostrzeżenie: Inicjalizacja MLflow nie powiodła się: {e}\")\n",
    "    print(\"Kontynuowanie bez śledzenia MLflow.\")\n",
    "\n",
    "# Inicjalizacja trenera z odpowiednim output_dir\n",
    "trainer = EnsembleModelTrainer(\n",
    "    model_paths=CONFIG[\"model_paths\"],\n",
    "    feature_files=CONFIG[\"feature_files\"],\n",
    "    model_class=CONFIG[\"model_class\"],  # Nowy parametr\n",
    "    output_dir=output_dir\n",
    ")\n",
    "\n",
    "print(\"Inicjalizacja zakończona. Można przystąpić do optymalizacji lub treningu.\")"
   ]
  },
  {
   "cell_type": "markdown",
   "id": "2caf7337",
   "metadata": {},
   "source": [
    "## Optymalizacja wag"
   ]
  },
  {
   "cell_type": "markdown",
   "id": "1e993d5f",
   "metadata": {},
   "source": [
    "Poniżej pobierane są parametry optymalizacji z wcześniej zdefiniowanej konfiguracji `CONFIG`, takie jak liczba prób (`n_trials`), limit czasu (`timeout`), liczba foldów walidacji krzyżowej (`n_folds`) oraz proporcja danych testowych (`test_size`). Następnie wywoływana jest metoda `optimize_weights` obiektu `trainer`, która wykorzystuje bibliotekę **Optuna** do znalezienia najlepszych wag dla każdego modelu bazowego w ensemble. Na koniec wyświetlane są informacje o zakończeniu optymalizacji oraz uzyskane najlepsze wagi (`best_weights`).\n",
    "\n",
    "Optymalizacja wag jest kluczowym krokiem w budowie modelu ensemble, ponieważ pozwala określić, jak bardzo każdy model bazowy (dla różnych cech audio) wpływa na ostateczną predykcję. Użycie Optuna automatyzuje ten proces, testując różne kombinacje wag w oparciu o walidację krzyżową, co prowadzi do poprawy dokładności modelu. Logowanie parametrów i wyników zapewnia przejrzystość i możliwość analizy procesu optymalizacji."
   ]
  },
  {
   "cell_type": "code",
   "execution_count": 5,
   "id": "576e59a8",
   "metadata": {},
   "outputs": [
    {
     "name": "stdout",
     "output_type": "stream",
     "text": [
      "Rozpoczynanie optymalizacji z 50 próbami...\n"
     ]
    },
    {
     "name": "stderr",
     "output_type": "stream",
     "text": [
      "2025/04/25 18:30:04 INFO mlflow.tracking.fluent: Experiment with name 'ensemble_optimization_20250425_183004' does not exist. Creating a new experiment.\n",
      "[I 2025-04-25 18:30:04,453] A new study created in memory with name: ensemble_optimization_20250425_183004\n",
      "[I 2025-04-25 18:30:26,826] Trial 0 finished with value: 0.9860529986052998 and parameters: {'weight_melspectrogram': 0.3745401188473625, 'weight_mfcc': 0.9507143064099162, 'weight_chroma': 0.7319939418114051}. Best is trial 0 with value: 0.9860529986052998.\n",
      "[I 2025-04-25 18:30:47,593] Trial 1 finished with value: 0.9888423988842399 and parameters: {'weight_melspectrogram': 0.5986584841970366, 'weight_mfcc': 0.15601864044243652, 'weight_chroma': 0.15599452033620265}. Best is trial 1 with value: 0.9888423988842399.\n",
      "[I 2025-04-25 18:31:07,879] Trial 2 finished with value: 0.9865178986517898 and parameters: {'weight_melspectrogram': 0.05808361216819946, 'weight_mfcc': 0.8661761457749352, 'weight_chroma': 0.6011150117432088}. Best is trial 1 with value: 0.9888423988842399.\n",
      "[I 2025-04-25 18:31:28,397] Trial 3 finished with value: 0.9874476987447699 and parameters: {'weight_melspectrogram': 0.7080725777960455, 'weight_mfcc': 0.020584494295802447, 'weight_chroma': 0.9699098521619943}. Best is trial 1 with value: 0.9888423988842399.\n",
      "[I 2025-04-25 18:31:51,669] Trial 4 finished with value: 0.9888423988842399 and parameters: {'weight_melspectrogram': 0.8324426408004217, 'weight_mfcc': 0.21233911067827616, 'weight_chroma': 0.18182496720710062}. Best is trial 1 with value: 0.9888423988842399.\n",
      "[I 2025-04-25 18:32:13,299] Trial 5 finished with value: 0.9874476987447699 and parameters: {'weight_melspectrogram': 0.18340450985343382, 'weight_mfcc': 0.3042422429595377, 'weight_chroma': 0.5247564316322378}. Best is trial 1 with value: 0.9888423988842399.\n",
      "[I 2025-04-25 18:32:34,616] Trial 6 finished with value: 0.98837749883775 and parameters: {'weight_melspectrogram': 0.43194501864211576, 'weight_mfcc': 0.2912291401980419, 'weight_chroma': 0.6118528947223795}. Best is trial 1 with value: 0.9888423988842399.\n",
      "[I 2025-04-25 18:32:56,142] Trial 7 finished with value: 0.9874476987447699 and parameters: {'weight_melspectrogram': 0.13949386065204183, 'weight_mfcc': 0.29214464853521815, 'weight_chroma': 0.3663618432936917}. Best is trial 1 with value: 0.9888423988842399.\n",
      "[I 2025-04-25 18:33:17,434] Trial 8 finished with value: 0.9879125987912598 and parameters: {'weight_melspectrogram': 0.45606998421703593, 'weight_mfcc': 0.7851759613930136, 'weight_chroma': 0.19967378215835974}. Best is trial 1 with value: 0.9888423988842399.\n",
      "[I 2025-04-25 18:33:40,076] Trial 9 finished with value: 0.9888423988842399 and parameters: {'weight_melspectrogram': 0.5142344384136116, 'weight_mfcc': 0.5924145688620425, 'weight_chroma': 0.046450412719997725}. Best is trial 1 with value: 0.9888423988842399.\n",
      "[I 2025-04-25 18:34:02,533] Trial 10 finished with value: 0.98837749883775 and parameters: {'weight_melspectrogram': 0.9535902538878209, 'weight_mfcc': 0.005997182955817193, 'weight_chroma': 0.007547319316293266}. Best is trial 1 with value: 0.9888423988842399.\n",
      "[I 2025-04-25 18:34:24,309] Trial 11 finished with value: 0.9888423988842399 and parameters: {'weight_melspectrogram': 0.8288336063575795, 'weight_mfcc': 0.17290226578999765, 'weight_chroma': 0.2962757888197507}. Best is trial 1 with value: 0.9888423988842399.\n",
      "[I 2025-04-25 18:34:45,435] Trial 12 finished with value: 0.9893072989307298 and parameters: {'weight_melspectrogram': 0.6767949780042212, 'weight_mfcc': 0.5474440731852301, 'weight_chroma': 0.17571812402700884}. Best is trial 12 with value: 0.9893072989307298.\n",
      "[I 2025-04-25 18:35:06,337] Trial 13 finished with value: 0.9893072989307298 and parameters: {'weight_melspectrogram': 0.6333686993295594, 'weight_mfcc': 0.5222157105443165, 'weight_chroma': 0.3560912233349937}. Best is trial 12 with value: 0.9893072989307298.\n",
      "[I 2025-04-25 18:35:27,281] Trial 14 finished with value: 0.9893072989307298 and parameters: {'weight_melspectrogram': 0.6382734539016967, 'weight_mfcc': 0.5356242640354899, 'weight_chroma': 0.3425159937377567}. Best is trial 12 with value: 0.9893072989307298.\n",
      "[I 2025-04-25 18:35:48,122] Trial 15 finished with value: 0.9874476987447699 and parameters: {'weight_melspectrogram': 0.3182862501248081, 'weight_mfcc': 0.6689823724455797, 'weight_chroma': 0.41658271991812795}. Best is trial 12 with value: 0.9893072989307298.\n",
      "[I 2025-04-25 18:36:08,834] Trial 16 finished with value: 0.9893072989307298 and parameters: {'weight_melspectrogram': 0.7747474243771275, 'weight_mfcc': 0.3978443561693824, 'weight_chroma': 0.2440052571659984}. Best is trial 12 with value: 0.9893072989307298.\n",
      "[I 2025-04-25 18:36:29,863] Trial 17 finished with value: 0.9893072989307298 and parameters: {'weight_melspectrogram': 0.9973353623274155, 'weight_mfcc': 0.4274063391353754, 'weight_chroma': 0.4532662224958812}. Best is trial 12 with value: 0.9893072989307298.\n",
      "[I 2025-04-25 18:36:50,705] Trial 18 finished with value: 0.9888423988842399 and parameters: {'weight_melspectrogram': 0.5557951498115983, 'weight_mfcc': 0.6936392019907478, 'weight_chroma': 0.12096386916047108}. Best is trial 12 with value: 0.9893072989307298.\n",
      "[I 2025-04-25 18:37:11,228] Trial 19 finished with value: 0.98837749883775 and parameters: {'weight_melspectrogram': 0.6738641489405022, 'weight_mfcc': 0.4532414473430827, 'weight_chroma': 0.7515634556724914}. Best is trial 12 with value: 0.9893072989307298.\n",
      "[I 2025-04-25 18:37:31,739] Trial 20 finished with value: 0.9865178986517898 and parameters: {'weight_melspectrogram': 0.25740056311981896, 'weight_mfcc': 0.5858131077530986, 'weight_chroma': 0.2759117864416594}. Best is trial 12 with value: 0.9893072989307298.\n",
      "[I 2025-04-25 18:37:52,653] Trial 21 finished with value: 0.9893072989307298 and parameters: {'weight_melspectrogram': 0.6411524291875526, 'weight_mfcc': 0.5530005533750098, 'weight_chroma': 0.3361295447437392}. Best is trial 12 with value: 0.9893072989307298.\n",
      "[I 2025-04-25 18:38:13,572] Trial 22 finished with value: 0.9888423988842399 and parameters: {'weight_melspectrogram': 0.7298348295317013, 'weight_mfcc': 0.692703844215292, 'weight_chroma': 0.48720070846438307}. Best is trial 12 with value: 0.9893072989307298.\n",
      "[I 2025-04-25 18:38:34,364] Trial 23 finished with value: 0.9893072989307298 and parameters: {'weight_melspectrogram': 0.8796139267265126, 'weight_mfcc': 0.5124954144958735, 'weight_chroma': 0.09649152551913792}. Best is trial 12 with value: 0.9893072989307298.\n",
      "[I 2025-04-25 18:38:55,087] Trial 24 finished with value: 0.9888423988842399 and parameters: {'weight_melspectrogram': 0.6053649975089515, 'weight_mfcc': 0.38183595527891984, 'weight_chroma': 0.37293680903905785}. Best is trial 12 with value: 0.9893072989307298.\n",
      "[I 2025-04-25 18:39:16,239] Trial 25 finished with value: 0.98837749883775 and parameters: {'weight_melspectrogram': 0.5044023852129145, 'weight_mfcc': 0.7737057787077892, 'weight_chroma': 0.24434019125509437}. Best is trial 12 with value: 0.9893072989307298.\n",
      "[I 2025-04-25 18:39:37,279] Trial 26 finished with value: 0.9888423988842399 and parameters: {'weight_melspectrogram': 0.7536937526891823, 'weight_mfcc': 0.4866667783320607, 'weight_chroma': 0.5544516888768325}. Best is trial 12 with value: 0.9893072989307298.\n",
      "[I 2025-04-25 18:39:58,054] Trial 27 finished with value: 0.98837749883775 and parameters: {'weight_melspectrogram': 0.5736735089129787, 'weight_mfcc': 0.6329066182004452, 'weight_chroma': 0.41460909590982264}. Best is trial 12 with value: 0.9893072989307298.\n",
      "[I 2025-04-25 18:40:19,163] Trial 28 finished with value: 0.9888423988842399 and parameters: {'weight_melspectrogram': 0.6606351124029591, 'weight_mfcc': 0.7824700784317223, 'weight_chroma': 0.30968594605660177}. Best is trial 12 with value: 0.9893072989307298.\n",
      "[I 2025-04-25 18:40:40,014] Trial 29 finished with value: 0.9879125987912598 and parameters: {'weight_melspectrogram': 0.4085234377868746, 'weight_mfcc': 0.5334695100464614, 'weight_chroma': 0.7509972360125259}. Best is trial 12 with value: 0.9893072989307298.\n",
      "[I 2025-04-25 18:41:00,575] Trial 30 finished with value: 0.98837749883775 and parameters: {'weight_melspectrogram': 0.8959062874003526, 'weight_mfcc': 0.9432351155839946, 'weight_chroma': 0.666535639307719}. Best is trial 12 with value: 0.9893072989307298.\n",
      "[I 2025-04-25 18:41:21,406] Trial 31 finished with value: 0.9893072989307298 and parameters: {'weight_melspectrogram': 0.7958416176614372, 'weight_mfcc': 0.39491518649940677, 'weight_chroma': 0.23720600991905166}. Best is trial 12 with value: 0.9893072989307298.\n",
      "[I 2025-04-25 18:41:42,304] Trial 32 finished with value: 0.9893072989307298 and parameters: {'weight_melspectrogram': 0.776639353235099, 'weight_mfcc': 0.3659585950778739, 'weight_chroma': 0.12165700556053821}. Best is trial 12 with value: 0.9893072989307298.\n",
      "[I 2025-04-25 18:42:02,954] Trial 33 finished with value: 0.9893072989307298 and parameters: {'weight_melspectrogram': 0.7034919579115304, 'weight_mfcc': 0.4709678986015477, 'weight_chroma': 0.18560282305686227}. Best is trial 12 with value: 0.9893072989307298.\n",
      "[I 2025-04-25 18:42:23,545] Trial 34 finished with value: 0.9888423988842399 and parameters: {'weight_melspectrogram': 0.630014721954322, 'weight_mfcc': 0.33244908593351785, 'weight_chroma': 0.2376969876610976}. Best is trial 12 with value: 0.9893072989307298.\n",
      "[I 2025-04-25 18:42:44,131] Trial 35 finished with value: 0.98837749883775 and parameters: {'weight_melspectrogram': 0.5607536748802403, 'weight_mfcc': 0.23519329971195424, 'weight_chroma': 0.9309781571937}. Best is trial 12 with value: 0.9893072989307298.\n",
      "[I 2025-04-25 18:43:05,037] Trial 36 finished with value: 0.9888423988842399 and parameters: {'weight_melspectrogram': 0.8683728305045947, 'weight_mfcc': 0.09017405294742775, 'weight_chroma': 0.39929464831880646}. Best is trial 12 with value: 0.9893072989307298.\n",
      "[I 2025-04-25 18:43:25,617] Trial 37 finished with value: 0.9897721989772199 and parameters: {'weight_melspectrogram': 0.6977490943967931, 'weight_mfcc': 0.6135804437207899, 'weight_chroma': 0.07827352516940278}. Best is trial 37 with value: 0.9897721989772199.\n",
      "[I 2025-04-25 18:43:45,957] Trial 38 finished with value: 0.9897721989772199 and parameters: {'weight_melspectrogram': 0.7087308455168253, 'weight_mfcc': 0.6293194295738288, 'weight_chroma': 0.0868645246506001}. Best is trial 37 with value: 0.9897721989772199.\n",
      "[I 2025-04-25 18:44:06,248] Trial 39 finished with value: 0.9897721989772199 and parameters: {'weight_melspectrogram': 0.699567791916527, 'weight_mfcc': 0.6466423375463137, 'weight_chroma': 0.07313997030856235}. Best is trial 37 with value: 0.9897721989772199.\n",
      "[I 2025-04-25 18:44:26,473] Trial 40 finished with value: 0.9888423988842399 and parameters: {'weight_melspectrogram': 0.7070484635016199, 'weight_mfcc': 0.867677321188228, 'weight_chroma': 0.05642452804299537}. Best is trial 37 with value: 0.9897721989772199.\n",
      "[I 2025-04-25 18:44:46,615] Trial 41 finished with value: 0.9888423988842399 and parameters: {'weight_melspectrogram': 0.6994970402433752, 'weight_mfcc': 0.7317474817212607, 'weight_chroma': 0.06742852192886137}. Best is trial 37 with value: 0.9897721989772199.\n",
      "[I 2025-04-25 18:45:06,647] Trial 42 finished with value: 0.9888423988842399 and parameters: {'weight_melspectrogram': 0.5401300914623176, 'weight_mfcc': 0.5917107565906866, 'weight_chroma': 0.010289718907428969}. Best is trial 37 with value: 0.9897721989772199.\n",
      "[I 2025-04-25 18:45:26,782] Trial 43 finished with value: 0.9888423988842399 and parameters: {'weight_melspectrogram': 0.4631396531941787, 'weight_mfcc': 0.6296651747257723, 'weight_chroma': 0.15365935448338305}. Best is trial 37 with value: 0.9897721989772199.\n",
      "[I 2025-04-25 18:45:46,986] Trial 44 finished with value: 0.98837749883775 and parameters: {'weight_melspectrogram': 0.6025796296553064, 'weight_mfcc': 0.6465698615972253, 'weight_chroma': 0.16033558840900577}. Best is trial 37 with value: 0.9897721989772199.\n",
      "[I 2025-04-25 18:46:08,499] Trial 45 finished with value: 0.9897721989772199 and parameters: {'weight_melspectrogram': 0.8063537771605833, 'weight_mfcc': 0.7271294217615099, 'weight_chroma': 0.08433764755317874}. Best is trial 37 with value: 0.9897721989772199.\n",
      "[I 2025-04-25 18:46:29,019] Trial 46 finished with value: 0.9888423988842399 and parameters: {'weight_melspectrogram': 0.8260813744515059, 'weight_mfcc': 0.8655914623480317, 'weight_chroma': 0.016398159997401865}. Best is trial 37 with value: 0.9897721989772199.\n",
      "[I 2025-04-25 18:46:49,722] Trial 47 finished with value: 0.9893072989307298 and parameters: {'weight_melspectrogram': 0.9489506101180563, 'weight_mfcc': 0.7348564576230701, 'weight_chroma': 0.0949879697880643}. Best is trial 37 with value: 0.9897721989772199.\n",
      "[I 2025-04-25 18:47:10,378] Trial 48 finished with value: 0.98837749883775 and parameters: {'weight_melspectrogram': 0.8165798676665216, 'weight_mfcc': 0.8496721136123931, 'weight_chroma': 0.1321682771570255}. Best is trial 37 with value: 0.9897721989772199.\n",
      "[I 2025-04-25 18:47:30,770] Trial 49 finished with value: 0.9893072989307298 and parameters: {'weight_melspectrogram': 0.7584615525724803, 'weight_mfcc': 0.5788990304674871, 'weight_chroma': 0.06550313868946737}. Best is trial 37 with value: 0.9897721989772199.\n",
      "c:\\Users\\kubas\\Desktop\\Projekt dyplomowy\\Audio-Emotion-Recognition\\src\\helpers\\ensemble_trainer.py:281: ExperimentalWarning: plot_optimization_history is experimental (supported from v2.2.0). The interface can change in the future.\n",
      "  optuna.visualization.matplotlib.plot_optimization_history(study)\n",
      "c:\\Users\\kubas\\Desktop\\Projekt dyplomowy\\Audio-Emotion-Recognition\\src\\helpers\\ensemble_trainer.py:291: ExperimentalWarning: plot_param_importances is experimental (supported from v2.2.0). The interface can change in the future.\n",
      "  optuna.visualization.matplotlib.plot_param_importances(study)\n"
     ]
    },
    {
     "name": "stdout",
     "output_type": "stream",
     "text": [
      "Optymalizacja zakończona!\n",
      "Najlepsze wagi: {'melspectrogram': 0.5021211544729384, 'mfcc': 0.4415508715628608, 'chroma': 0.056327973964200626}\n"
     ]
    },
    {
     "data": {
      "text/plain": [
       "<Figure size 1000x600 with 0 Axes>"
      ]
     },
     "metadata": {},
     "output_type": "display_data"
    },
    {
     "data": {
      "text/plain": [
       "<Figure size 1000x600 with 0 Axes>"
      ]
     },
     "metadata": {},
     "output_type": "display_data"
    }
   ],
   "source": [
    "# Komórka odpowiedzialna za optymalizację wag modelu, w której definiowane są parametry optymalizacji\n",
    "n_trials = CONFIG[\"optimization\"][\"n_trials\"]\n",
    "timeout = CONFIG[\"optimization\"][\"timeout\"]\n",
    "n_folds = CONFIG[\"optimization\"][\"n_folds\"]\n",
    "test_size = CONFIG[\"test_split\"]\n",
    "\n",
    "print(f\"Rozpoczynanie optymalizacji z {n_trials} próbami...\")\n",
    "best_weights = trainer.optimize_weights(\n",
    "    n_trials=n_trials,\n",
    "    timeout=timeout,\n",
    "    n_folds=n_folds,\n",
    "    test_size=test_size\n",
    ")\n",
    "\n",
    "print(\"Optymalizacja zakończona!\")\n",
    "print(f\"Najlepsze wagi: {best_weights}\")"
   ]
  },
  {
   "cell_type": "markdown",
   "id": "e0eefe60",
   "metadata": {},
   "source": [
    "## Trening i ewaluacja modelu"
   ]
  },
  {
   "cell_type": "markdown",
   "id": "cebe076d",
   "metadata": {},
   "source": [
    "Komórka poniżej umożliwia elastyczne testowanie modelu ensemble z różnymi zestawami wag – zarówno zoptymalizowanymi automatycznie, jak i ustawionymi ręcznie, co pozwala eksperymentować z wpływem poszczególnych reprezentacji audio na wynik. Wywołanie metody `train_and_evaluate` integruje proces treningu i oceny, korzystając z wcześniej przygotowanej konfiguracji."
   ]
  },
  {
   "cell_type": "code",
   "execution_count": 6,
   "id": "66cf5014",
   "metadata": {},
   "outputs": [
    {
     "name": "stdout",
     "output_type": "stream",
     "text": [
      "Trenowanie i ewaluacja modelu z wagami: {'melspectrogram': 0.5021211544729384, 'mfcc': 0.4415508715628608, 'chroma': 0.056327973964200626}\n",
      "Trenowanie i ewaluacja zakończona!\n",
      "Dokładność testowa: 0.9576\n",
      "Wynik F1 testu: 0.9575\n"
     ]
    }
   ],
   "source": [
    "# Komórka odpowiedzialna za trening i ewaluację modelu, która powinna być uruchomiona po zakończeniu optymalizacji lub przy użyciu zdefiniowanych wag.\n",
    "# Możliwość wykorzystania wag uzyskanych w poprzednim kroku lub zdefiniowanie własnych wag.\n",
    "# Przykład z własnymi wagami:\n",
    "# custom_weights = {\n",
    "#     \"melspectrogram\": 0.7,\n",
    "#     \"mfcc\": 0.1,\n",
    "#     \"chroma\": 0.2\n",
    "# }\n",
    "\n",
    "# Wybór wag do użycia, które mogą być najlepszymi wagami lub zdefiniowanymi przez użytkownika\n",
    "weights_to_use = best_weights  # lub custom_weights, jeśli zdefiniowano\n",
    "\n",
    "print(f\"Trenowanie i ewaluacja modelu z wagami: {weights_to_use}\")\n",
    "ensemble_model, test_results = trainer.train_and_evaluate(\n",
    "    weights=weights_to_use,\n",
    "    test_size=CONFIG[\"test_split\"],\n",
    "    batch_size=CONFIG[\"batch_size\"]\n",
    ")\n",
    "\n",
    "print(\"Trenowanie i ewaluacja zakończona!\")\n",
    "print(f\"Dokładność testowa: {test_results['accuracy']:.4f}\")\n",
    "print(f\"Wynik F1 testu: {test_results['f1']:.4f}\")"
   ]
  },
  {
   "cell_type": "markdown",
   "id": "6910c08f",
   "metadata": {},
   "source": [
    "## Szczegółowe wyniki modelu"
   ]
  },
  {
   "cell_type": "code",
   "execution_count": 7,
   "id": "a710ea0b",
   "metadata": {},
   "outputs": [
    {
     "name": "stdout",
     "output_type": "stream",
     "text": [
      "Raport klasyfikacji:\n",
      "              precision    recall  f1-score   support\n",
      "\n",
      "       anger       0.96      0.98      0.97       150\n",
      "        fear       0.99      0.98      0.98       147\n",
      "   happiness       0.95      0.92      0.93       150\n",
      "     neutral       0.95      0.98      0.96       162\n",
      "     sadness       0.99      0.98      0.98       154\n",
      "   surprised       0.92      0.90      0.91       134\n",
      "\n",
      "    accuracy                           0.96       897\n",
      "   macro avg       0.96      0.96      0.96       897\n",
      "weighted avg       0.96      0.96      0.96       897\n",
      "\n"
     ]
    },
    {
     "data": {
      "image/png": "[encoded data removed]",
      "text/plain": [
       "<Figure size 1600x800 with 2 Axes>"
      ]
     },
     "metadata": {},
     "output_type": "display_data"
    }
   ],
   "source": [
    "# Komórka odpowiedzialna za wyświetlanie szczegółowych wyników\n",
    "# Wymagana po zakończeniu procesu treningu i ewaluacji\n",
    "if 'test_results' in locals():\n",
    "    # Generowanie szczegółowego raportu klasyfikacji\n",
    "    print(\"Raport klasyfikacji:\")\n",
    "    class_names = CONFIG[\"class_names\"]\n",
    "    print(classification_report(test_results['true'], test_results['preds'], target_names=class_names))\n",
    "    \n",
    "    # Tworzenie i wyświetlanie znormalizowanej macierzy konfuzji\n",
    "    plt.figure(figsize=(16, 8))\n",
    "    cm_normalized = test_results['cm'].astype('float') / test_results['cm'].sum(axis=1)[:, np.newaxis]\n",
    "    sns.heatmap(cm_normalized, annot=True, fmt='.2f', cmap='Purples',\n",
    "               xticklabels=class_names, yticklabels=class_names)\n",
    "    plt.title('Znormalizowana macierz konfuzji')\n",
    "    plt.ylabel('Prawdziwa etykieta')\n",
    "    plt.xlabel('Przewidywana etykieta')\n",
    "    plt.show()"
   ]
  }
 ],
 "metadata": {
  "kernelspec": {
   "display_name": "Audio Emotion Recog",
   "language": "python",
   "name": "audio_emotion_recognition"
  },
  "language_info": {
   "codemirror_mode": {
    "name": "ipython",
    "version": 3
   },
   "file_extension": ".py",
   "mimetype": "text/x-python",
   "name": "python",
   "nbconvert_exporter": "python",
   "pygments_lexer": "ipython3",
   "version": "3.9.13"
  }
 },
 "nbformat": 4,
 "nbformat_minor": 5
}
