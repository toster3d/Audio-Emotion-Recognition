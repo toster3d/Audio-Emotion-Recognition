{
 "cells": [
  {
   "cell_type": "markdown",
   "metadata": {},
   "source": [
    "### Inspekcja modeli PyTorch"
   ]
  },
  {
   "cell_type": "code",
   "execution_count": 6,
   "metadata": {},
   "outputs": [],
   "source": [
    "# Importy standardowej biblioteki\n",
    "\n",
    "import torch\n",
    "import torch.serialization\n",
    "\n",
    "# Importy bibliotek zewnętrznych\n",
    "import numpy as np\n"
   ]
  },
  {
   "cell_type": "code",
   "execution_count": 7,
   "metadata": {},
   "outputs": [
    {
     "name": "stdout",
     "output_type": "stream",
     "text": [
      "Inspekcja pliku modelu: ensemble_outputs\\ensemble_run_20250517_212652\\models/best_ensemble_model.pt\n",
      "Wersja PyTorch: 2.7.0+cpu\n",
      "\n",
      "Próba ładowania z weights_only=False...\n",
      "Błąd podczas wczytywania pliku: [Errno 2] No such file or directory: 'ensemble_outputs\\\\ensemble_run_20250517_212652\\\\models/best_ensemble_model.pt'\n",
      "\n",
      "Próba wczytania metadanych z: ensemble_outputs\\ensemble_run_20250517_212652\\models/best_ensemble_model_metadata.json\n",
      "Nie udało się wczytać metadanych: [Errno 2] No such file or directory: 'ensemble_outputs\\\\ensemble_run_20250517_212652\\\\models/best_ensemble_model_metadata.json'\n"
     ]
    }
   ],
   "source": [
    "def add_safe_globals_for_pytorch():\n",
    "    \"\"\"\n",
    "    Dodaje niezbędne klasy/funkcje do bezpiecznej listy PyTorch\n",
    "    \"\"\"\n",
    "    try:\n",
    "        # Lista potencjalnie wymaganych klas/funkcji \n",
    "        safe_globals = [\n",
    "            torch.torch_version.TorchVersion,\n",
    "            np.core.multiarray._reconstruct,\n",
    "            np.ndarray,\n",
    "            np.dtype\n",
    "        ]\n",
    "        \n",
    "        # Dodanie wszystkich klas/funkcji do bezpiecznej listy\n",
    "        for safe_global in safe_globals:\n",
    "            try:\n",
    "                torch.serialization.add_safe_globals([safe_global])\n",
    "            except Exception as e:\n",
    "                print(f\"Nie można dodać do bezpiecznych globali: {e}\")\n",
    "                \n",
    "    except Exception as e:\n",
    "        print(f\"Ostrzeżenie: Nie można dodać niektórych klas do bezpiecznych globali: {e}\")\n",
    "\n",
    "def safe_inspect_model(path):\n",
    "    \"\"\"\n",
    "    Bezpieczna funkcja do inspekcji zawartości modelu PyTorch\n",
    "    \n",
    "    Args:\n",
    "        path (str): Ścieżka do pliku .pt z zapisanym modelem\n",
    "    \"\"\"\n",
    "    print(f\"Inspekcja pliku modelu: {path}\")\n",
    "    print(f\"Wersja PyTorch: {torch.__version__}\")\n",
    "    \n",
    "    # Dodanie bezpiecznych globali\n",
    "    add_safe_globals_for_pytorch()\n",
    "    \n",
    "    # Próba ładowania - najpierw weights_only=False (działa, ale mniej bezpieczne)\n",
    "    try:\n",
    "        print(\"\\nPróba ładowania z weights_only=False...\")\n",
    "        state = torch.load(path, map_location=torch.device('cpu'), weights_only=False)\n",
    "        print(\"Sukces z weights_only=False!\")\n",
    "        \n",
    "        print(\"\\nKlucze dostępne w pliku stanu modelu:\")\n",
    "        for key in state.keys():\n",
    "            print(f\"- {key}\")\n",
    "            \n",
    "        print(\"\\nSzczegółowe informacje:\")\n",
    "        for key, value in state.items():\n",
    "            if isinstance(value, (str, int, float, bool)):\n",
    "                print(f\"{key}: {value}\")\n",
    "            elif isinstance(value, (list, tuple)) and len(value) < 10:\n",
    "                print(f\"{key}: {value}\")\n",
    "            elif isinstance(value, dict) and len(value) < 10:\n",
    "                print(f\"{key}: {value}\")\n",
    "            elif isinstance(value, dict):\n",
    "                print(f\"{key}: {type(value)} z {len(value)} elementami\")\n",
    "                print(\"  Przykłady:\")\n",
    "                for i, (k, v) in enumerate(value.items()):\n",
    "                    if i >= 3: break\n",
    "                    print(f\"  - {k}: {type(v)}\")\n",
    "            else:\n",
    "                print(f\"{key}: {type(value)}\")\n",
    "        \n",
    "        return state\n",
    "                \n",
    "    except Exception as e:\n",
    "        print(f\"Błąd podczas wczytywania pliku: {str(e)}\\n\")\n",
    "        \n",
    "        # Jeśli jednak się nie udało, sprawdź metadane JSON\n",
    "        try:\n",
    "            metadata_path = path.replace('.pt', '_metadata.json')\n",
    "            print(f\"Próba wczytania metadanych z: {metadata_path}\")\n",
    "            import json\n",
    "            with open(metadata_path, 'r') as f:\n",
    "                metadata = json.load(f)\n",
    "            \n",
    "            print(\"\\nMetadane modelu:\")\n",
    "            for key, value in metadata.items():\n",
    "                print(f\"- {key}: {value}\")\n",
    "            \n",
    "            return metadata\n",
    "        except Exception as e_meta:\n",
    "            print(f\"Nie udało się wczytać metadanych: {str(e_meta)}\")\n",
    "            \n",
    "        return None\n",
    "\n",
    "model_path = \"ensemble_outputs\\ensemble_run_20250517_212652\\models/best_ensemble_model.pt\"\n",
    "safe_inspect_model(model_path)"
   ]
  }
 ],
 "metadata": {
  "kernelspec": {
   "display_name": "Python (Audio Emotion Recognition)",
   "language": "python",
   "name": "audio-emotion-recognition"
  },
  "language_info": {
   "codemirror_mode": {
    "name": "ipython",
    "version": 3
   },
   "file_extension": ".py",
   "mimetype": "text/x-python",
   "name": "python",
   "nbconvert_exporter": "python",
   "pygments_lexer": "ipython3",
   "version": "3.9.13"
  }
 },
 "nbformat": 4,
 "nbformat_minor": 2
}
